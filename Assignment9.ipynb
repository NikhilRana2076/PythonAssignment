{
  "nbformat": 4,
  "nbformat_minor": 0,
  "metadata": {
    "colab": {
      "name": "Assignment9.ipynb",
      "provenance": [],
      "authorship_tag": "ABX9TyNxRVh31cDOU+K+tQjF7iU0",
      "include_colab_link": true
    },
    "kernelspec": {
      "name": "python3",
      "display_name": "Python 3"
    },
    "language_info": {
      "name": "python"
    }
  },
  "cells": [
    {
      "cell_type": "markdown",
      "metadata": {
        "id": "view-in-github",
        "colab_type": "text"
      },
      "source": [
        "<a href=\"https://colab.research.google.com/github/NikhilRana2076/PythonAssignment/blob/main/Assignment9.ipynb\" target=\"_parent\"><img src=\"https://colab.research.google.com/assets/colab-badge.svg\" alt=\"Open In Colab\"/></a>"
      ]
    },
    {
      "cell_type": "markdown",
      "metadata": {
        "id": "Jisgc0_Lhjpd"
      },
      "source": [
        "1) Count the total number of words in ‘oliver.txt’.\n"
      ]
    },
    {
      "cell_type": "code",
      "metadata": {
        "id": "lYARI2eJZdGQ",
        "colab": {
          "base_uri": "https://localhost:8080/"
        },
        "outputId": "2922570d-3d53-452e-a693-85400a168f80"
      },
      "source": [
        "file = open(\"/content/drive/MyDrive/Colab Notebooks/oliver.txt\", \"rt\")\n",
        "contents = file.read()\n",
        "words = contents.split()\n",
        "print(\"The total number of words is \",len(words))"
      ],
      "execution_count": 6,
      "outputs": [
        {
          "output_type": "stream",
          "text": [
            "The total number of words is  1111\n"
          ],
          "name": "stdout"
        }
      ]
    },
    {
      "cell_type": "markdown",
      "metadata": {
        "id": "YWGosOyqjGgq"
      },
      "source": [
        "2) Make a dictionary of all the unique words and their frequency  in ‘oldman.txt’.\n"
      ]
    },
    {
      "cell_type": "code",
      "metadata": {
        "id": "PgHSeb8tjXvK"
      },
      "source": [
        "file = open(\"/content/drive/MyDrive/Colab Notebooks/oldman.txt\", \"rt\")\n"
      ],
      "execution_count": 7,
      "outputs": []
    }
  ]
}