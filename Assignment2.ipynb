{
  "nbformat": 4,
  "nbformat_minor": 0,
  "metadata": {
    "colab": {
      "name": "Assignment2.ipynb",
      "provenance": [],
      "collapsed_sections": [],
      "authorship_tag": "ABX9TyP0Of9RV2t4fulcgQ+KA2A9",
      "include_colab_link": true
    },
    "kernelspec": {
      "name": "python3",
      "display_name": "Python 3"
    },
    "language_info": {
      "name": "python"
    }
  },
  "cells": [
    {
      "cell_type": "markdown",
      "metadata": {
        "id": "view-in-github",
        "colab_type": "text"
      },
      "source": [
        "<a href=\"https://colab.research.google.com/github/NikhilRana2076/PythonAssignment/blob/main/Assignment2.ipynb\" target=\"_parent\"><img src=\"https://colab.research.google.com/assets/colab-badge.svg\" alt=\"Open In Colab\"/></a>"
      ]
    },
    {
      "cell_type": "markdown",
      "metadata": {
        "id": "F8CnqeaoePPq"
      },
      "source": [
        "**Tuples**"
      ]
    },
    {
      "cell_type": "markdown",
      "metadata": {
        "id": "fTE2vxUEeazo"
      },
      "source": [
        "1)Convert tuples to list."
      ]
    },
    {
      "cell_type": "code",
      "metadata": {
        "colab": {
          "base_uri": "https://localhost:8080/"
        },
        "id": "BYt5QoEceOP5",
        "outputId": "69ae8d29-900f-4745-de4c-9154421d461c"
      },
      "source": [
        "tuples1 = (10, 20, 30, 40, 50)\n",
        "tuples2 = ('a', 'b', 'c', 'd','e')\n",
        "tuples3 = (1, 'a', 2, 'b', 3, 'c')\n",
        "\n",
        "tuples = (tuples1, tuples2, tuples3)\n",
        "list1  = list(tuples)\n",
        "print(list1)\n"
      ],
      "execution_count": 26,
      "outputs": [
        {
          "output_type": "stream",
          "text": [
            "[(10, 20, 30, 40, 50), ('a', 'b', 'c', 'd', 'e'), (1, 'a', 2, 'b', 3, 'c')]\n"
          ],
          "name": "stdout"
        }
      ]
    },
    {
      "cell_type": "markdown",
      "metadata": {
        "id": "j6zHTSnLfVUk"
      },
      "source": [
        "2) Write a program to calculate direction and magnitude of the vector described by the following points.\n",
        "A = (20,30)\n",
        "B = (30,40)\n"
      ]
    },
    {
      "cell_type": "code",
      "metadata": {
        "colab": {
          "base_uri": "https://localhost:8080/"
        },
        "id": "PshfhzmYfdVM",
        "outputId": "033323c7-4f1c-48d3-e9b1-3cfe54199d7f"
      },
      "source": [
        "import math \n",
        "A= (20, 30)\n",
        "B= (30, 40)\n",
        "\n",
        "x= B[0]-A[0]\n",
        "y= B[1]-A[1]\n",
        "\n",
        "rad= math.atan(y/x)\n",
        "deg= math.degrees(rad)\n",
        "print(\"The required direction of the vector is %d°.\" %deg)\n",
        "\n",
        "mag= math.sqrt(pow(x,2)+pow(y,2))\n",
        "print(\"The required magnitude of the vector is %.2f.\" %mag)"
      ],
      "execution_count": 27,
      "outputs": [
        {
          "output_type": "stream",
          "text": [
            "The required direction of the vector is 45°.\n",
            "The required magnitude of the vector is 14.14.\n"
          ],
          "name": "stdout"
        }
      ]
    },
    {
      "cell_type": "markdown",
      "metadata": {
        "id": "F6YSxgodgTHL"
      },
      "source": [
        "3) Write a program to demonstrate data types that can be elements of a tuple."
      ]
    },
    {
      "cell_type": "code",
      "metadata": {
        "colab": {
          "base_uri": "https://localhost:8080/"
        },
        "id": "DXpzfBU4gVP5",
        "outputId": "c2b89ec6-cfba-4414-994c-b3dafbe765ba"
      },
      "source": [
        "a= (1)\n",
        "print(\"The first data type is \", type(a))\n",
        "\n",
        "b= (1.44)\n",
        "print(\"The second data type is\", type(a))\n",
        "\n",
        "c= ('Hello')\n",
        "print(\"The third data type is \", type(b))\n",
        "\n",
        "d= ('a', 'e', 'i', 'o', 'u')\n",
        "print(\"The forth data type is \", type(c))\n",
        "\n",
        "e= list(d) \n",
        "print(\"The fifth data type is \", type(d))\n",
        "\n",
        "f= {1, 2, 3, 4}\n",
        "print(\"The first data type is \", type(e))\n",
        "\n",
        "tuple1= (a, b, c, d, e, f)\n",
        "print(\"\\nCombinination of all the datatypes is\",tuple1)\n",
        "print(\"\\nHence data types can be elements of tuples i.e\",type(tuple1))"
      ],
      "execution_count": 53,
      "outputs": [
        {
          "output_type": "stream",
          "text": [
            "The first data type is  <class 'int'>\n",
            "The second data type is <class 'int'>\n",
            "The third data type is  <class 'float'>\n",
            "The forth data type is  <class 'str'>\n",
            "The fifth data type is  <class 'tuple'>\n",
            "The first data type is  <class 'list'>\n",
            "\n",
            "Combinination of all the datatypes is (1, 1.44, 'Hello', ('a', 'e', 'i', 'o', 'u'), ['a', 'e', 'i', 'o', 'u'], {1, 2, 3, 4})\n",
            "\n",
            "Hence data types can be elements of tuples i.e <class 'tuple'>\n"
          ],
          "name": "stdout"
        }
      ]
    }
  ]
}