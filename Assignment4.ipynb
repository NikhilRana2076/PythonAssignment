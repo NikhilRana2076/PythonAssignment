{
  "nbformat": 4,
  "nbformat_minor": 0,
  "metadata": {
    "colab": {
      "name": "Assignment4.ipynb",
      "provenance": [],
      "collapsed_sections": [],
      "authorship_tag": "ABX9TyMRjiHuGo42MNOfVmZ57nEw",
      "include_colab_link": true
    },
    "kernelspec": {
      "name": "python3",
      "display_name": "Python 3"
    },
    "language_info": {
      "name": "python"
    }
  },
  "cells": [
    {
      "cell_type": "markdown",
      "metadata": {
        "id": "view-in-github",
        "colab_type": "text"
      },
      "source": [
        "<a href=\"https://colab.research.google.com/github/NikhilRana2076/PythonAssignment/blob/main/Assignment4.ipynb\" target=\"_parent\"><img src=\"https://colab.research.google.com/assets/colab-badge.svg\" alt=\"Open In Colab\"/></a>"
      ]
    },
    {
      "cell_type": "markdown",
      "metadata": {
        "id": "y-14uU_K9Di5"
      },
      "source": [
        "1) Write a python program to find the largest of three numbers .\n"
      ]
    },
    {
      "cell_type": "code",
      "metadata": {
        "colab": {
          "base_uri": "https://localhost:8080/"
        },
        "id": "ijHU9-SY9I89",
        "outputId": "4ef2198f-16a3-432f-e86a-306ee0db1f8a"
      },
      "source": [
        "a = int(input('Enter first number: '))\n",
        "b = int(input('Enter second number: '))\n",
        "c = int(input('Enter third number: '))\n",
        "\n",
        "if (a > b and a > c):\n",
        "  print('\\nThe first number is largest.')\n",
        "elif (b > a and b > c):\n",
        "  print('\\nThe second number is largest.')\n",
        "else:\n",
        "  print('\\nThe third number is largest.')"
      ],
      "execution_count": 10,
      "outputs": [
        {
          "output_type": "stream",
          "text": [
            "Enter first number: 5\n",
            "Enter second number: 4\n",
            "Enter third number: 7\n",
            "\n",
            "The third number is largest.\n"
          ],
          "name": "stdout"
        }
      ]
    },
    {
      "cell_type": "markdown",
      "metadata": {
        "id": "3RIW3C6Z_Dr0"
      },
      "source": [
        "2) Write a python program to check whether a character is uppercase or lowercase alphabet.\n"
      ]
    },
    {
      "cell_type": "code",
      "metadata": {
        "id": "sC_Wb8MU_KFr",
        "colab": {
          "base_uri": "https://localhost:8080/"
        },
        "outputId": "ba393b58-9542-445a-bca4-77f5f6e4dc67"
      },
      "source": [
        "name =  input('Enter the character: \\n')[0]\n",
        "\n",
        "if name >= 'A' and name <= 'Z':\n",
        "  print('The word is in uppercase.')\n",
        "elif name >= 'a' and name <= 'z':\n",
        "    print('The word is in lowercase.')\n",
        "else:\n",
        "    print('Its not an alphabet.')"
      ],
      "execution_count": 11,
      "outputs": [
        {
          "output_type": "stream",
          "text": [
            "Enter the character: \n",
            "J\n",
            "The word is in uppercase.\n"
          ],
          "name": "stdout"
        }
      ]
    },
    {
      "cell_type": "markdown",
      "metadata": {
        "id": "sOnPJkK5E122"
      },
      "source": [
        "3) WAP to find whether given input is number or character.\n"
      ]
    },
    {
      "cell_type": "code",
      "metadata": {
        "id": "LM8NayAND2sC",
        "colab": {
          "base_uri": "https://localhost:8080/"
        },
        "outputId": "91b95c68-2f42-49ae-db0c-8e5c3fe8878c"
      },
      "source": [
        "chara = input('Enter the character: \\n')\n",
        "\n",
        "if chara.lower() >= 'a' and chara.lower() <= 'z':\n",
        "  print('The character is an alphabet.')\n",
        "elif chara >= '0':\n",
        "    print('The character is a number.')\n",
        "else:\n",
        "  print('It is neither number nor alphabet.')"
      ],
      "execution_count": 12,
      "outputs": [
        {
          "output_type": "stream",
          "text": [
            "Enter the character: \n",
            "2020\n",
            "The character is a number.\n"
          ],
          "name": "stdout"
        }
      ]
    },
    {
      "cell_type": "markdown",
      "metadata": {
        "id": "LbIxxlH2JZ8X"
      },
      "source": [
        "4) Write a program to check whether the input alphabet is vowel or not using if-else.\n"
      ]
    },
    {
      "cell_type": "code",
      "metadata": {
        "colab": {
          "base_uri": "https://localhost:8080/"
        },
        "id": "ZaFg08oCJbq-",
        "outputId": "bd0ebe2e-e1c8-4328-d751-6b9283c2ff9c"
      },
      "source": [
        "ch = input(\"Enter an alphabet : \")[0]\n",
        "\n",
        "if ch.lower() in \"aeiou\":\n",
        "    print(\"\\n\" + ch, \"is a vowel.\")\n",
        "else :\n",
        "    print(\"\\n\" + ch, \"is not a vowel.\")"
      ],
      "execution_count": 14,
      "outputs": [
        {
          "output_type": "stream",
          "text": [
            "Enter an alphabet : U\n",
            "\n",
            "U is a vowel.\n"
          ],
          "name": "stdout"
        }
      ]
    },
    {
      "cell_type": "markdown",
      "metadata": {
        "id": "k-e5U4FCPWVq"
      },
      "source": [
        "5) Write a program to check whether the entered year is leap year or not.\n"
      ]
    },
    {
      "cell_type": "code",
      "metadata": {
        "id": "mdI6lsxCPaH_",
        "colab": {
          "base_uri": "https://localhost:8080/"
        },
        "outputId": "66df20ef-7236-4960-dc21-724fcc5d5e9a"
      },
      "source": [
        "year = int(input(\"Please Enter the Year: \"))\n",
        "\n",
        "if (( year%400 == 0) or (( year%4 == 0 ) and ( year%100 != 0))):\n",
        "    print(\"%d is a Leap Year.\" %year)\n",
        "else:\n",
        "    print(\"%d is not a Leap Year.\" %year)"
      ],
      "execution_count": 4,
      "outputs": [
        {
          "output_type": "stream",
          "text": [
            "Please Enter the Year: 2020\n",
            "2020 is a Leap Year.\n"
          ],
          "name": "stdout"
        }
      ]
    },
    {
      "cell_type": "markdown",
      "metadata": {
        "id": "Tk9lCkl1HnN8"
      },
      "source": [
        "6) Write a program to check if the number is Armstrong or not.\n"
      ]
    },
    {
      "cell_type": "code",
      "metadata": {
        "colab": {
          "base_uri": "https://localhost:8080/"
        },
        "id": "AAMGX-wGHsRv",
        "outputId": "09b39a44-4ede-4959-9d14-abc1cbfed5b4"
      },
      "source": [
        "num = int(input(\"Enter a number: \"))\n",
        "sum = 0\n",
        "\n",
        "temp = num\n",
        "while temp > 0:\n",
        "   digit = temp % 10\n",
        "   sum += digit ** 3\n",
        "   temp //= 10\n",
        "\n",
        "if num == sum:\n",
        "   print(num,\"is an Armstrong number.\")\n",
        "else:\n",
        "   print(num,\"is not an Armstrong number.\")\n"
      ],
      "execution_count": 7,
      "outputs": [
        {
          "output_type": "stream",
          "text": [
            "Enter a number: 407\n",
            "407 is an Armstrong number.\n"
          ],
          "name": "stdout"
        }
      ]
    },
    {
      "cell_type": "markdown",
      "metadata": {
        "id": "7WdWY17jJHFy"
      },
      "source": [
        "7) Write a program to compute the grade from marks.\n",
        "\n",
        "Marks Grade \n",
        "\n",
        "Marks<=50 F\n",
        "\n",
        "60>=marks>50 E\n",
        "\n",
        "70>= marks > 60 D\n",
        "\n",
        "80>= marks > 70 C\n",
        "\n",
        "90 > = marks > 80 B\n",
        "\n",
        "100>= marks >90 A\n",
        "\n"
      ]
    },
    {
      "cell_type": "code",
      "metadata": {
        "colab": {
          "base_uri": "https://localhost:8080/"
        },
        "id": "mDkOGi6RJlFw",
        "outputId": "c922e0f4-90b2-4fad-b38e-f5738979aa15"
      },
      "source": [
        "marks = int(input('Enter the grade marks: '))\n",
        "\n",
        "if (marks<=50):\n",
        "  print('Grade= F.')\n",
        "elif (60>=marks>50):\n",
        "  print('Grade= E.')\n",
        "elif (70>=marks>60):\n",
        "  print('Grade= D.')\n",
        "elif (80>=marks>70):\n",
        "  print('Grade= C.')\n",
        "elif (90>=marks>80):\n",
        "  print('Grade= B.')\n",
        "else:\n",
        "  print('Grade= A.')"
      ],
      "execution_count": 9,
      "outputs": [
        {
          "output_type": "stream",
          "text": [
            "Enter the grade marks: 91\n",
            "Grade= A.\n"
          ],
          "name": "stdout"
        }
      ]
    }
  ]
}