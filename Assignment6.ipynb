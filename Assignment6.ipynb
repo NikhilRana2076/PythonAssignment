{
  "nbformat": 4,
  "nbformat_minor": 0,
  "metadata": {
    "colab": {
      "name": "Assignment6.ipynb",
      "provenance": [],
      "authorship_tag": "ABX9TyMfK++5SCgoNRP/+Pc6/dv0",
      "include_colab_link": true
    },
    "kernelspec": {
      "name": "python3",
      "display_name": "Python 3"
    },
    "language_info": {
      "name": "python"
    }
  },
  "cells": [
    {
      "cell_type": "markdown",
      "metadata": {
        "id": "view-in-github",
        "colab_type": "text"
      },
      "source": [
        "<a href=\"https://colab.research.google.com/github/NikhilRana2076/PythonAssignment/blob/main/Assignment6.ipynb\" target=\"_parent\"><img src=\"https://colab.research.google.com/assets/colab-badge.svg\" alt=\"Open In Colab\"/></a>"
      ]
    },
    {
      "cell_type": "markdown",
      "metadata": {
        "id": "TUpSig9f5Wrz"
      },
      "source": [
        "1) bird = ['crows','pigeon','eagles','falcon','pigeon','falcon','falcon']\n",
        "Remove all the duplicates from the following list using while.\n",
        "\n"
      ]
    },
    {
      "cell_type": "code",
      "metadata": {
        "colab": {
          "base_uri": "https://localhost:8080/"
        },
        "id": "N1AWndjp5gBl",
        "outputId": "800f6a62-299b-46c8-f11e-eeffe3f1fc0f"
      },
      "source": [
        "bird = ['crows','pigeon','eagles','falcon','pigeon','falcon','falcon']\n",
        "index = 0\n",
        "while index < len(bird):\n",
        "    if bird[index] in bird[ : index]:\n",
        "        bird.pop(index)\n",
        "    else:\n",
        "        index += 1\n",
        "\n",
        "print(\"The remaining elements of the lists after removing dupicates is:\", bird)"
      ],
      "execution_count": 1,
      "outputs": [
        {
          "output_type": "stream",
          "text": [
            "The remaining elements of the lists after removing dupicates is: ['crows', 'pigeon', 'eagles', 'falcon']\n"
          ],
          "name": "stdout"
        }
      ]
    },
    {
      "cell_type": "markdown",
      "metadata": {
        "id": "mKUaoXhz-7Cp"
      },
      "source": [
        "2) Deli: Make a list called sandwich_orders and fill it with the names of various sandwiches. Then make an empty list called finished_sandwiches . Loop through the list of sandwich orders and print a message for each order, such as I made your tuna sandwich. As each sandwich is made, move it to the list of finished sandwiches. After all the sandwiches have been made, print a message listing each sandwich that was made.\n"
      ]
    },
    {
      "cell_type": "code",
      "metadata": {
        "colab": {
          "base_uri": "https://localhost:8080/"
        },
        "id": "F5miSlCw-9hN",
        "outputId": "0b53b180-6cec-473d-e1d8-0c60f383c890"
      },
      "source": [
        "sandwich_orders = ['veg', 'cheese', 'chicken', 'tuna']\n",
        "finished_sandwiches = []\n",
        "\n",
        "while sandwich_orders:\n",
        "    current_sandwich = sandwich_orders.pop()\n",
        "    print(\"I'm working on your \" + current_sandwich + \" sandwich.\")\n",
        "    finished_sandwiches.append(current_sandwich)\n",
        "\n",
        "print(\"\\n\")\n",
        "for sandwich in finished_sandwiches:\n",
        "    print(\"I made your \" + sandwich + \" sandwich.\")\n",
        "\n",
        "print('\\nThe list of all the sanwiches that has been made is', finished_sandwiches)"
      ],
      "execution_count": 17,
      "outputs": [
        {
          "output_type": "stream",
          "text": [
            "I'm working on your tuna sandwich.\n",
            "I'm working on your chicken sandwich.\n",
            "I'm working on your cheese sandwich.\n",
            "I'm working on your veg sandwich.\n",
            "\n",
            "\n",
            "I made your tuna sandwich.\n",
            "I made your chicken sandwich.\n",
            "I made your cheese sandwich.\n",
            "I made your veg sandwich.\n",
            "\n",
            "The list of all the sanwiches that has been made is ['tuna', 'chicken', 'cheese', 'veg']\n"
          ],
          "name": "stdout"
        }
      ]
    },
    {
      "cell_type": "markdown",
      "metadata": {
        "id": "81vN2kZiCGGs"
      },
      "source": [
        "3) Dream Vacation: Write a program that polls users about their dream vacation. Write a prompt similar to If you could visit one place in the world, where would you go? Include a block of code that prints the results of the poll."
      ]
    },
    {
      "cell_type": "code",
      "metadata": {
        "colab": {
          "base_uri": "https://localhost:8080/"
        },
        "id": "f_so19foCGz3",
        "outputId": "353e9bb1-0d62-4671-a5ef-1039db06a374"
      },
      "source": [
        "name_prompt = \"\\nWhat's your name? \"\n",
        "place_prompt = \"If you could visit one place in the world, where would it be? \"\n",
        "continue_prompt = \"Would you like to let someone else respond? (yes/no):\"\n",
        "\n",
        "responses = {}\n",
        "\n",
        "while True:\n",
        "    name = input(name_prompt)\n",
        "    place = input(place_prompt)\n",
        "\n",
        "    responses[name] = place\n",
        "\n",
        "    repeat = input(continue_prompt)\n",
        "    if repeat != 'yes':\n",
        "        break\n",
        "\n",
        "print(\"\\n--- Results ---\")\n",
        "for name, place in responses.items():\n",
        "    print(name.title() + \" would like to visit \" + place.title() + \".\")"
      ],
      "execution_count": 30,
      "outputs": [
        {
          "output_type": "stream",
          "text": [
            "\n",
            "What's your name? a\n",
            "If you could visit one place in the world, where would it be? old trafford\n",
            "Would you like to let someone else respond? (yes/no):yes\n",
            "\n",
            "What's your name? b\n",
            "If you could visit one place in the world, where would it be? spain\n",
            "Would you like to let someone else respond? (yes/no):yes\n",
            "\n",
            "What's your name? c\n",
            "If you could visit one place in the world, where would it be? france\n",
            "Would you like to let someone else respond? (yes/no):no\n",
            "\n",
            "--- Results ---\n",
            "A would like to visit Old Trafford.\n",
            "B would like to visit Spain.\n",
            "C would like to visit France.\n"
          ],
          "name": "stdout"
        }
      ]
    }
  ]
}