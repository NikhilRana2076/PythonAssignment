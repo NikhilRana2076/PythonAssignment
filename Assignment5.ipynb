{
  "nbformat": 4,
  "nbformat_minor": 0,
  "metadata": {
    "colab": {
      "name": "Assignment5.ipynb",
      "provenance": [],
      "authorship_tag": "ABX9TyOUc9IfvyMtotawPoKd9poF",
      "include_colab_link": true
    },
    "kernelspec": {
      "name": "python3",
      "display_name": "Python 3"
    },
    "language_info": {
      "name": "python"
    }
  },
  "cells": [
    {
      "cell_type": "markdown",
      "metadata": {
        "id": "view-in-github",
        "colab_type": "text"
      },
      "source": [
        "<a href=\"https://colab.research.google.com/github/NikhilRana2076/PythonAssignment/blob/main/Assignment5.ipynb\" target=\"_parent\"><img src=\"https://colab.research.google.com/assets/colab-badge.svg\" alt=\"Open In Colab\"/></a>"
      ]
    },
    {
      "cell_type": "markdown",
      "metadata": {
        "id": "tbUmYVcSTeQ3"
      },
      "source": [
        "1) Students = [‘jack’,’jill’,’david’,’silva’,’ronaldo’]\n",
        "\n",
        "Marks = [‘55’,’56’,’57’,’66’,’76’]\n",
        "\n",
        "Make a dictionary using lists above and delete the key-value (students:marks) pairs with lowest marks. \n",
        "\n"
      ]
    },
    {
      "cell_type": "code",
      "metadata": {
        "colab": {
          "base_uri": "https://localhost:8080/"
        },
        "id": "frkji9G0TkVj",
        "outputId": "b1f3564d-5782-42b5-9cd2-f0cc84d47979"
      },
      "source": [
        "dicti= {}\n",
        "students = ['jack','jill','david','silva','ronaldo']\n",
        "marks = ['55','56','57','66','76']\n",
        "\n",
        "for i in range(len(students)):\n",
        "  dicti[students[i]] = marks[i]\n",
        "\n",
        "print(dicti)\n",
        "\n",
        "minkey = min(dicti, key=dicti.get)\n",
        "print(\"\\nThe student with less marks is \",minkey)\n",
        "\n",
        "del dicti[minkey]\n",
        "\n",
        "print(\"\\n\", dicti)"
      ],
      "execution_count": null,
      "outputs": [
        {
          "output_type": "stream",
          "text": [
            "{'jack': '55', 'jill': '56', 'david': '57', 'silva': '66', 'ronaldo': '76'}\n",
            "\n",
            "The student with less marks is  jack\n",
            "\n",
            " {'jill': '56', 'david': '57', 'silva': '66', 'ronaldo': '76'}\n"
          ],
          "name": "stdout"
        }
      ]
    },
    {
      "cell_type": "markdown",
      "metadata": {
        "id": "VYSZCG4WaB5m"
      },
      "source": [
        "2) Euro = {‘France’:5,’Germany’:2,’Portugal’:3,’Hungary’:6}\n",
        "Make two lists from above dictionary\n"
      ]
    },
    {
      "cell_type": "code",
      "metadata": {
        "colab": {
          "base_uri": "https://localhost:8080/"
        },
        "id": "OsvR8UmSaDOP",
        "outputId": "18e75509-b74a-429e-d3ca-dae37a5041cd"
      },
      "source": [
        "Euro = {'France':5,'Germany':2,'Portugal':5,'Hungary':2}\n",
        "countrys= []\n",
        "pointss= []\n",
        "for country in Euro.keys():\n",
        "  countrys.append(country)\n",
        "print(countrys)\n",
        "for points in Euro.values():\n",
        "  pointss.append(points)\n",
        "print(pointss)"
      ],
      "execution_count": null,
      "outputs": [
        {
          "output_type": "stream",
          "text": [
            "['France', 'Germany', 'Portugal', 'Hungary']\n",
            "[5, 2, 5, 2]\n"
          ],
          "name": "stdout"
        }
      ]
    },
    {
      "cell_type": "markdown",
      "metadata": {
        "id": "I3lXbshba-rc"
      },
      "source": [
        "3) users = {'g91':{'name':'Aron','age':55,'poison':'Old monk'},\n",
        "        'twir56':{'name':'Visakha','age':26,'poison':'coca cola'},\n",
        "        'jsdl8':{'name':'Saudi','age':12,'poison':'hinwa'}}\n",
        "Generate a list of usernames, name, age and poison from the above dictionary.\n",
        "\n"
      ]
    },
    {
      "cell_type": "code",
      "metadata": {
        "colab": {
          "base_uri": "https://localhost:8080/"
        },
        "id": "zC6d8PX0bAKa",
        "outputId": "5a1b07f8-b4ed-4272-d4c8-9b4a0dd91b0b"
      },
      "source": [
        "users = {'g91':{'name':'Aron','age':55,'poison':'Old monk'},\n",
        "        'twir56':{'name':'Visakha','age':26,'poison':'coca cola'},\n",
        "        'jsdl8':{'name':'Saudi','age':12,'poison':'hinwa'}}\n",
        "usernames= []\n",
        "user= []\n",
        "names= []\n",
        "age= []\n",
        "poison= []\n",
        "\n",
        "for username, userinfo in users.items():\n",
        "  usernames.append(username)\n",
        "print(usernames)\n",
        "\n",
        "for name in users.values():\n",
        "   print(name)\n",
        "\n",
        "for name1 in name.items():\n",
        "  names.append(name)\n",
        "print(names)\n",
        "\n"
      ],
      "execution_count": null,
      "outputs": [
        {
          "output_type": "stream",
          "text": [
            "['g91', 'twir56', 'jsdl8']\n",
            "{'name': 'Aron', 'age': 55, 'poison': 'Old monk'}\n",
            "{'name': 'Visakha', 'age': 26, 'poison': 'coca cola'}\n",
            "{'name': 'Saudi', 'age': 12, 'poison': 'hinwa'}\n",
            "[{'name': 'Saudi', 'age': 12, 'poison': 'hinwa'}, {'name': 'Saudi', 'age': 12, 'poison': 'hinwa'}, {'name': 'Saudi', 'age': 12, 'poison': 'hinwa'}]\n"
          ],
          "name": "stdout"
        }
      ]
    },
    {
      "cell_type": "markdown",
      "metadata": {
        "id": "N9_5R4LCf1Fc"
      },
      "source": [
        "4) Take the above list and put it in order.\n"
      ]
    },
    {
      "cell_type": "code",
      "metadata": {
        "id": "-Pu6WWm7gKui"
      },
      "source": [
        ""
      ],
      "execution_count": null,
      "outputs": []
    }
  ]
}