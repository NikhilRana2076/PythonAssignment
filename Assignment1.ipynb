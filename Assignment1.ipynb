{
  "nbformat": 4,
  "nbformat_minor": 0,
  "metadata": {
    "colab": {
      "name": "assignment1.ipynb",
      "provenance": [],
      "collapsed_sections": [],
      "authorship_tag": "ABX9TyP8jCDOg/ErTh6+Ri/dvbkW",
      "include_colab_link": true
    },
    "kernelspec": {
      "name": "python3",
      "display_name": "Python 3"
    },
    "language_info": {
      "name": "python"
    }
  },
  "cells": [
    {
      "cell_type": "markdown",
      "metadata": {
        "id": "view-in-github",
        "colab_type": "text"
      },
      "source": [
        "<a href=\"https://colab.research.google.com/github/NikhilRana2076/pythonassignment/blob/main/assignment1.ipynb\" target=\"_parent\"><img src=\"https://colab.research.google.com/assets/colab-badge.svg\" alt=\"Open In Colab\"/></a>"
      ]
    },
    {
      "cell_type": "markdown",
      "metadata": {
        "id": "J434EESQiukT"
      },
      "source": [
        "**Assignment 1**"
      ]
    },
    {
      "cell_type": "markdown",
      "metadata": {
        "id": "8WoZKneIjA6Q"
      },
      "source": [
        "1) Write a Python code to calculate Permutation (5,3)."
      ]
    },
    {
      "cell_type": "code",
      "metadata": {
        "colab": {
          "base_uri": "https://localhost:8080/"
        },
        "id": "KyBo7Do8jYyE",
        "outputId": "50046f23-2cab-4e37-801e-c20799a27589"
      },
      "source": [
        "import math\n",
        "n= 5\n",
        "r= 3\n",
        "per= math.factorial(n)/math.factorial(n-r)\n",
        "print(\"The value in permutation is %2d.\" % (per))"
      ],
      "execution_count": null,
      "outputs": [
        {
          "output_type": "stream",
          "text": [
            "The value in permutation is 60.\n"
          ],
          "name": "stdout"
        }
      ]
    },
    {
      "cell_type": "markdown",
      "metadata": {
        "id": "r-4dey6GoYdp"
      },
      "source": [
        "2) Write a Python code to calculate Combination (15,3)"
      ]
    },
    {
      "cell_type": "code",
      "metadata": {
        "colab": {
          "base_uri": "https://localhost:8080/"
        },
        "id": "txS3D3zwoils",
        "outputId": "00b68382-983d-4eac-bcf7-fab69498a89c"
      },
      "source": [
        "import math\n",
        "n= 15\n",
        "r= 3\n",
        "com= math.factorial(n)/(math.factorial(r)*math.factorial(n-r))\n",
        "print(\"The value in combination is %2d.\" % (com))"
      ],
      "execution_count": null,
      "outputs": [
        {
          "output_type": "stream",
          "text": [
            "The value in combination is 455.\n"
          ],
          "name": "stdout"
        }
      ]
    },
    {
      "cell_type": "markdown",
      "metadata": {
        "id": "73AXUmC7pKD3"
      },
      "source": [
        "3) Write a Python code that takes the degree as input from the user and convert it into radian."
      ]
    },
    {
      "cell_type": "code",
      "metadata": {
        "colab": {
          "base_uri": "https://localhost:8080/"
        },
        "id": "m8O1PL-ApN5u",
        "outputId": "5d640f38-d3a8-4693-c5a1-399705b7598d"
      },
      "source": [
        "import math\n",
        "number = int(input(\"Enter a number in degree \"))\n",
        "rad= math.radians(number)\n",
        "print(\"Your number in radian is %2f\" % (rad))"
      ],
      "execution_count": null,
      "outputs": [
        {
          "output_type": "stream",
          "text": [
            "Enter a number in degree 90\n",
            "Your number in radian is 1.570796\n"
          ],
          "name": "stdout"
        }
      ]
    },
    {
      "cell_type": "markdown",
      "metadata": {
        "id": "ugmMTSNBqoVT"
      },
      "source": [
        "4) Write a Python code that inputs input from the user and calculate its square root."
      ]
    },
    {
      "cell_type": "code",
      "metadata": {
        "colab": {
          "base_uri": "https://localhost:8080/"
        },
        "id": "Jk9V5_8Bqp7E",
        "outputId": "2a362c25-b462-45b3-eca1-9a264783cd74"
      },
      "source": [
        "import math\n",
        "number = int(input(\"Enter a number \"))\n",
        "sqr= math.sqrt(number)\n",
        "print(\"The square root of the given number is %2d\" % (sqr))"
      ],
      "execution_count": null,
      "outputs": [
        {
          "output_type": "stream",
          "text": [
            "Enter a number 64\n",
            "The square root of the given number is  8\n"
          ],
          "name": "stdout"
        }
      ]
    },
    {
      "cell_type": "markdown",
      "metadata": {
        "id": "HVodHaurrDHW"
      },
      "source": [
        "5) Write a Python code to calculate LCM of (25,55)\n",
        "\n"
      ]
    },
    {
      "cell_type": "code",
      "metadata": {
        "colab": {
          "base_uri": "https://localhost:8080/"
        },
        "id": "c9O1fMcYrbYl",
        "outputId": "7cb757e9-fbfa-4f39-d90b-14cc01f5dafb"
      },
      "source": [
        "import math\n",
        "a = 25\n",
        "b = 55\n",
        "\n",
        "if(a > b):\n",
        "    lcm = a\n",
        "else:\n",
        "    lcm = b\n",
        "\n",
        "while(True):\n",
        "    if(lcm % a == 0 and lcm % b == 0):\n",
        "      print(\"\\n LCM of {} and {} is {}\".format(a, b, lcm))\n",
        "      break;\n",
        "    lcm = lcm + 1"
      ],
      "execution_count": null,
      "outputs": [
        {
          "output_type": "stream",
          "text": [
            "\n",
            " LCM of 25 and 55 = 275\n"
          ],
          "name": "stdout"
        }
      ]
    },
    {
      "cell_type": "markdown",
      "metadata": {
        "id": "9hr-krfCsMuS"
      },
      "source": [
        "6) Ask enter to enter two numbers (say, a and b). Generate two random numbers between those two numbers and find a combination of these two newly generated random numbers.  "
      ]
    },
    {
      "cell_type": "code",
      "metadata": {
        "colab": {
          "base_uri": "https://localhost:8080/"
        },
        "id": "utouXoxbsRsD",
        "outputId": "76b1535d-45de-4ff5-beff-5f66960cb739"
      },
      "source": [
        "import math\n",
        "a = int(input(\"Enter a first number: \"))\n",
        "b = int(input(\"Enter a second number: \"))\n",
        "import random\n",
        "c= random.randint(a, b)\n",
        "d= random.randint(a, b)\n",
        "print(\"First random number is :\", c)\n",
        "print(\"Second random number is :\", d)\n",
        "\n",
        "if (c>d) :\n",
        " com = math.factorial(c)/(math.factorial(d)*math.factorial(c-d)) \n",
        " print(\"The combination of two random nummbers is \", com)\n",
        "\n",
        "else: \n",
        "  print(\"The random value is incorrect since second value is greater than first value\")"
      ],
      "execution_count": null,
      "outputs": [
        {
          "output_type": "stream",
          "text": [
            "Enter a first number: 1\n",
            "Enter a second number: 10\n",
            "First random number is : 6\n",
            "Second random number is : 3\n",
            "The combination of two random nummbers is  20.0\n"
          ],
          "name": "stdout"
        }
      ]
    },
    {
      "cell_type": "markdown",
      "metadata": {
        "id": "S75Ke6yFpQJF"
      },
      "source": [
        "7) Divide 1000 by 3 and print the answer with only 5 numbers after decimal."
      ]
    },
    {
      "cell_type": "code",
      "metadata": {
        "colab": {
          "base_uri": "https://localhost:8080/"
        },
        "id": "dmvdoFTjpSLE",
        "outputId": "191d7007-9176-4d21-aea2-315e5114db67"
      },
      "source": [
        "import math\n",
        "a= 1000\n",
        "b= 3 \n",
        "c= a/b\n",
        "print(\"The division of 1000 and 3 is %.5f\" %c)"
      ],
      "execution_count": null,
      "outputs": [
        {
          "output_type": "stream",
          "text": [
            "The division of 1000 and 3 is 333.33333\n"
          ],
          "name": "stdout"
        }
      ]
    },
    {
      "cell_type": "markdown",
      "metadata": {
        "id": "ZDbShouWtNes"
      },
      "source": [
        "8)Write a program to convert 108 to binary."
      ]
    },
    {
      "cell_type": "code",
      "metadata": {
        "colab": {
          "base_uri": "https://localhost:8080/"
        },
        "id": "9vbRLayQyNvw",
        "outputId": "2772fdb3-558d-4e5e-baa6-7e87b4eb1e63"
      },
      "source": [
        "import math\n",
        "b= bin(108)\n",
        "print(\"The binary number of 108 is\",b)"
      ],
      "execution_count": 3,
      "outputs": [
        {
          "output_type": "stream",
          "text": [
            "The binary number of 108 is 0b1101100\n"
          ],
          "name": "stdout"
        }
      ]
    },
    {
      "cell_type": "markdown",
      "metadata": {
        "id": "XVQOLqYj3KrB"
      },
      "source": [
        "9)Write a program to convert 1008 to hexadecimal."
      ]
    },
    {
      "cell_type": "code",
      "metadata": {
        "colab": {
          "base_uri": "https://localhost:8080/"
        },
        "id": "vd0TFwvN3Poh",
        "outputId": "fd0c5be2-a184-4d9f-b258-0bcf85435081"
      },
      "source": [
        "import math\n",
        "hex= hex(1008)\n",
        "print(\"The hexadecimal number of 1008 is\",hex)"
      ],
      "execution_count": 5,
      "outputs": [
        {
          "output_type": "stream",
          "text": [
            "The hexadecimal number of 1008 is 0x3f0\n"
          ],
          "name": "stdout"
        }
      ]
    },
    {
      "cell_type": "markdown",
      "metadata": {
        "id": "XUbRbKI23QpL"
      },
      "source": [
        "10)Write a summary of everything you learnt in this class."
      ]
    },
    {
      "cell_type": "markdown",
      "metadata": {
        "id": "9khPyJ1-7tlh"
      },
      "source": [
        "Ans: The first class of python was helpful to us to understand the basic functions of python. First we learned to print text and write comments without disturbing the code. Then, we learnt about the appropriate variable names that can be used while using python.\n",
        "\n",
        "After that we learnt about string, casting, numbers and user inputs. One of the most important thing we learnt was to use math library. Lot of difficult math equations were easily solved because of it's help.\n"
      ]
    }
  ]
}
