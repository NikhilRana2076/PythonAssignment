{
  "nbformat": 4,
  "nbformat_minor": 0,
  "metadata": {
    "colab": {
      "name": "Assignment8.ipynb",
      "provenance": [],
      "collapsed_sections": [],
      "authorship_tag": "ABX9TyNVb4r8v6jceXkQBy854bep",
      "include_colab_link": true
    },
    "kernelspec": {
      "name": "python3",
      "display_name": "Python 3"
    },
    "language_info": {
      "name": "python"
    }
  },
  "cells": [
    {
      "cell_type": "markdown",
      "metadata": {
        "id": "view-in-github",
        "colab_type": "text"
      },
      "source": [
        "<a href=\"https://colab.research.google.com/github/NikhilRana2076/PythonAssignment/blob/main/Assignment8.ipynb\" target=\"_parent\"><img src=\"https://colab.research.google.com/assets/colab-badge.svg\" alt=\"Open In Colab\"/></a>"
      ]
    },
    {
      "cell_type": "markdown",
      "metadata": {
        "id": "G6EEE-hqo8wi"
      },
      "source": [
        "1) Write a function that calculates the X^Y"
      ]
    },
    {
      "cell_type": "code",
      "metadata": {
        "colab": {
          "base_uri": "https://localhost:8080/"
        },
        "id": "Vy2XuUtKpBLA",
        "outputId": "dd2f113f-7585-4adb-9c8e-3c40cea0d083"
      },
      "source": [
        "def power(x, y):\n",
        " \n",
        "    if(y == 0): return 1\n",
        "    temp = power(x, int(y / 2))\n",
        "\n",
        "    if (y % 2 == 0):\n",
        "        return temp * temp\n",
        "    else:\n",
        "        if (y > 0): \n",
        "          return x * temp * temp\n",
        "        else: \n",
        "          return (temp * temp) / x\n",
        "\n",
        "x, y = 2, 5\n",
        "print('%.6f' %(power(x, y)))"
      ],
      "execution_count": null,
      "outputs": [
        {
          "output_type": "stream",
          "text": [
            "32.000000\n"
          ],
          "name": "stdout"
        }
      ]
    },
    {
      "cell_type": "markdown",
      "metadata": {
        "id": "JzxZkDYbrS0g"
      },
      "source": [
        "2) Write a Python function to multiply all the numbers in a list.\n",
        "\n"
      ]
    },
    {
      "cell_type": "code",
      "metadata": {
        "colab": {
          "base_uri": "https://localhost:8080/"
        },
        "id": "rb-Zh_QFrWhM",
        "outputId": "11fe51ea-92dc-43bd-bd1e-a7df526f0306"
      },
      "source": [
        "listA = []\n",
        "n = int(input(\"Enter number of elements in the list : \"))\n",
        "for i in range(0, n):\n",
        "   print(\"Enter element No.{}: \".format(i+1))\n",
        "   elm = int(input())\n",
        "   listA.append(elm) \n",
        "print(\"The entered list is: \\n\",listA)\n",
        "\n",
        "def multiplyList(myList) :\n",
        "     \n",
        "    result = 1\n",
        "    for x in myList:\n",
        "         result = result * x\n",
        "    return result\n",
        " \n",
        "\n",
        "print(\"The multiplication is: \",multiplyList(listA))"
      ],
      "execution_count": null,
      "outputs": [
        {
          "output_type": "stream",
          "text": [
            "Enter number of elements in the list : 4\n",
            "Enter element No.1: \n",
            "1\n",
            "Enter element No.2: \n",
            "2\n",
            "Enter element No.3: \n",
            "3\n",
            "Enter element No.4: \n",
            "4\n",
            "The entered list is: \n",
            " [1, 2, 3, 4]\n",
            "The multiplication is:  24\n"
          ],
          "name": "stdout"
        }
      ]
    },
    {
      "cell_type": "markdown",
      "metadata": {
        "id": "j8aspV5BsmR3"
      },
      "source": [
        "3) Write a Python function to calculate the factorial of a number (a non-negative integer). The function accepts the number as an argument.\n",
        "\n"
      ]
    },
    {
      "cell_type": "code",
      "metadata": {
        "id": "hKxdk6eqspuP",
        "colab": {
          "base_uri": "https://localhost:8080/"
        },
        "outputId": "bfdcf79d-7d75-460c-cc9b-92bc9c33f600"
      },
      "source": [
        "def factorial(n):\n",
        "    if n == 0:\n",
        "        return 1\n",
        "    else:\n",
        "        return n * factorial(n-1)\n",
        "\n",
        "n=int(input(\"Enter a number to find the factiorial : \"))\n",
        "print(\"The factorial of the number is \",factorial(n))\n"
      ],
      "execution_count": null,
      "outputs": [
        {
          "output_type": "stream",
          "text": [
            "Enter a number to find the factiorial : 5\n",
            "The factorial of the number is  120\n"
          ],
          "name": "stdout"
        }
      ]
    },
    {
      "cell_type": "markdown",
      "metadata": {
        "id": "clBMdlCiN5Ex"
      },
      "source": [
        "4) Write a Python function that accepts a string and calculates the number of uppercase letters and lowercase letters.\n"
      ]
    },
    {
      "cell_type": "code",
      "metadata": {
        "colab": {
          "base_uri": "https://localhost:8080/"
        },
        "id": "qNMuHWZ7O1wf",
        "outputId": "07018abf-f7d3-47ab-9fd6-0a5acb8b5fdc"
      },
      "source": [
        "def string_test(s):\n",
        "    d={\"UPPER_CASE\":0, \"LOWER_CASE\":0}\n",
        "    for c in s:\n",
        "        if c.isupper():\n",
        "           d[\"UPPER_CASE\"]+=1\n",
        "        elif c.islower():\n",
        "           d[\"LOWER_CASE\"]+=1\n",
        "        else:\n",
        "           pass\n",
        "    print (\"Original String : \", s)\n",
        "    print (\"No. of Upper case characters : \", d[\"UPPER_CASE\"])\n",
        "    print (\"No. of Lower case Characters : \", d[\"LOWER_CASE\"])\n",
        "\n",
        "string_test('Python is taught by Mr. Janak sir through the Internet.')"
      ],
      "execution_count": null,
      "outputs": [
        {
          "output_type": "stream",
          "text": [
            "Original String :  Python is taught by Mr. Janak sir through the Internet.\n",
            "No. of Upper case characters :  4\n",
            "No. of Lower case Characters :  40\n"
          ],
          "name": "stdout"
        }
      ]
    },
    {
      "cell_type": "markdown",
      "metadata": {
        "id": "XqvzuyfgRTNb"
      },
      "source": [
        "5) Write a Python function that takes a list and returns a new list with unique elements of the first list.\n"
      ]
    },
    {
      "cell_type": "code",
      "metadata": {
        "colab": {
          "base_uri": "https://localhost:8080/"
        },
        "id": "1IjfOcNkRXSe",
        "outputId": "c0a90c1d-4a20-446a-ced4-b906c1580a62"
      },
      "source": [
        "    def unique_list(l):\n",
        "      num = []\n",
        "      for a in l:\n",
        "        if a not in num:\n",
        "          num.append(a)\n",
        "      return num\n",
        "    print('Unique elements are')\n",
        "    print(unique_list([1,2,3,4,5,2,4,6,8])) "
      ],
      "execution_count": null,
      "outputs": [
        {
          "output_type": "stream",
          "text": [
            "Unique elements are\n",
            "[1, 2, 3, 4, 5, 6, 8]\n"
          ],
          "name": "stdout"
        }
      ]
    },
    {
      "cell_type": "markdown",
      "metadata": {
        "id": "wxs2qnDPSbAf"
      },
      "source": [
        "6) Write a Python program to print the even numbers from a given list.\n"
      ]
    },
    {
      "cell_type": "code",
      "metadata": {
        "colab": {
          "base_uri": "https://localhost:8080/"
        },
        "id": "cpi8N-VzSdfS",
        "outputId": "501d2a27-b0ec-4564-c7ae-73591b5e3561"
      },
      "source": [
        "def even_list(l):\n",
        "    even = []\n",
        "    for n in l:\n",
        "        if n % 2 == 0:\n",
        "            even.append(n)\n",
        "    return even\n",
        "print(\"The required even number from list is\", even_list([1, 2, 3, 4, 5, 6, 7, 8, 9]))"
      ],
      "execution_count": null,
      "outputs": [
        {
          "output_type": "stream",
          "text": [
            "The required even number from list is [2, 4, 6, 8]\n"
          ],
          "name": "stdout"
        }
      ]
    },
    {
      "cell_type": "markdown",
      "metadata": {
        "id": "MpzbBDTRUVOA"
      },
      "source": [
        "7)  Write a Python function to check whether a string is a pangram or not. Note : Pangrams are words or sentences containing every letter of the alphabet at least once.\n"
      ]
    },
    {
      "cell_type": "code",
      "metadata": {
        "colab": {
          "base_uri": "https://localhost:8080/"
        },
        "id": "gCj8899XUYX4",
        "outputId": "ba6d3814-26eb-46a0-d55d-cef3ad48dbac"
      },
      "source": [
        "import string\n",
        "  \n",
        "def ispangram(str):\n",
        "    alphabet = \"abcdefghijklmnopqrstuvwxyz\"\n",
        "    for char in alphabet:\n",
        "        if char not in str.lower():\n",
        "            return False \n",
        "    return True\n",
        "      \n",
        "string = 'The quick brown fox jumps over the lazy dog.'\n",
        "if(ispangram(string) == True):\n",
        "    print(\"Yes\")\n",
        "else:\n",
        "    print(\"No\")"
      ],
      "execution_count": null,
      "outputs": [
        {
          "output_type": "stream",
          "text": [
            "Yes\n"
          ],
          "name": "stdout"
        }
      ]
    },
    {
      "cell_type": "markdown",
      "metadata": {
        "id": "uukyVuYkVEI5"
      },
      "source": [
        "8) Write a Python program that accepts a hyphen-separated sequence of words as input and prints the words in a hyphen-separated sequence after sorting them alphabetically\n",
        "Sample Items : green-red-yellow-black-white\n",
        "Expected Result : black-green-red-white-yellow"
      ]
    },
    {
      "cell_type": "code",
      "metadata": {
        "colab": {
          "base_uri": "https://localhost:8080/"
        },
        "id": "Wu1W946eVL90",
        "outputId": "5fd08ca0-013f-4761-b9a8-d703f3c0013c"
      },
      "source": [
        "print(\"Enter a hyphen separated sequence of words:\")\n",
        "items=[n for n in input().split('-')]\n",
        "items.sort()\n",
        "\n",
        "print(\"\\nThe alphabetically sorted value is: \")\n",
        "print('-'.join(items))"
      ],
      "execution_count": null,
      "outputs": [
        {
          "output_type": "stream",
          "text": [
            "Enter a hyphen separated sequence of words:\n",
            "ackac-ckmk-knnr-cbinik-ncsfn-aaankf\n",
            "\n",
            "The alphabetically sorted value is: \n",
            "aaankf-ackac-cbinik-ckmk-knnr-ncsfn\n"
          ],
          "name": "stdout"
        }
      ]
    },
    {
      "cell_type": "markdown",
      "metadata": {
        "id": "tYaV93MDPlub"
      },
      "source": [
        "9) Write a Python program to reverse a string.\n"
      ]
    },
    {
      "cell_type": "code",
      "metadata": {
        "colab": {
          "base_uri": "https://localhost:8080/"
        },
        "id": "eq41q15zPqeP",
        "outputId": "488c1a0b-36c0-4c84-c48d-d545560ab58f"
      },
      "source": [
        " def string(x):\n",
        "  return x[::-1]\n",
        "\n",
        "text = string(\"Let's change this sentence and reverse it.\")\n",
        "\n",
        "print(\"The reverse string of above statement is: \")\n",
        "print(text) "
      ],
      "execution_count": 7,
      "outputs": [
        {
          "output_type": "stream",
          "text": [
            "The reverse string of above statement is: \n",
            ".ti esrever dna ecnetnes siht egnahc s'teL\n"
          ],
          "name": "stdout"
        }
      ]
    },
    {
      "cell_type": "markdown",
      "metadata": {
        "id": "kn5yQlKAQlOG"
      },
      "source": [
        "10) Write a Python program to access a function inside a function\n"
      ]
    },
    {
      "cell_type": "code",
      "metadata": {
        "colab": {
          "base_uri": "https://localhost:8080/"
        },
        "id": "NobZPZXoQoUZ",
        "outputId": "46d55e7f-1ba1-417c-e023-ea9917886736"
      },
      "source": [
        "def double(m):\n",
        "      def adder(n):\n",
        "        return m+n\n",
        "      return adder\n",
        "ans = double(7)\n",
        "print(\"The value which is \", ans(10))"
      ],
      "execution_count": 15,
      "outputs": [
        {
          "output_type": "stream",
          "text": [
            "The value which is  17\n"
          ],
          "name": "stdout"
        }
      ]
    },
    {
      "cell_type": "markdown",
      "metadata": {
        "id": "0uNJv05pUHgc"
      },
      "source": [
        "11) Write a program to double a given number and add two numbers using lambda()?\n"
      ]
    },
    {
      "cell_type": "code",
      "metadata": {
        "colab": {
          "base_uri": "https://localhost:8080/"
        },
        "id": "2Bf5NXlaT4l2",
        "outputId": "c528ab2a-ce7d-46c6-c68e-83e11a8eb0c6"
      },
      "source": [
        "a = int(input(\"Enter first number:\"))\n",
        "b = int(input(\"Enter second number:\"))\n",
        "x = lambda a: a * 2\n",
        "y = lambda a, b: a + b\n",
        "\n",
        "print(\"The double of first number is\", x(a))\n",
        "print(\"The sum of two numbers is \", y(a, b))"
      ],
      "execution_count": 23,
      "outputs": [
        {
          "output_type": "stream",
          "text": [
            "Enter first number:4\n",
            "Enter second number:10\n",
            "The double of first number is 8\n",
            "The sum of two numbers is  14\n"
          ],
          "name": "stdout"
        }
      ]
    },
    {
      "cell_type": "markdown",
      "metadata": {
        "id": "K7P4XkhQVYJM"
      },
      "source": [
        "12) Write a python module with two functions:\n",
        "\n",
        "a. GCD\n",
        "\n",
        "b. LCM\n"
      ]
    },
    {
      "cell_type": "code",
      "metadata": {
        "id": "N-tIDd2YV0IG"
      },
      "source": [
        ""
      ],
      "execution_count": null,
      "outputs": []
    }
  ]
}