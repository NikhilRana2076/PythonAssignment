{
  "nbformat": 4,
  "nbformat_minor": 0,
  "metadata": {
    "colab": {
      "name": "Assignment7.ipynb",
      "provenance": [],
      "collapsed_sections": [],
      "authorship_tag": "ABX9TyOY2TrUwZ/c4kJys155ysky",
      "include_colab_link": true
    },
    "kernelspec": {
      "name": "python3",
      "display_name": "Python 3"
    },
    "language_info": {
      "name": "python"
    }
  },
  "cells": [
    {
      "cell_type": "markdown",
      "metadata": {
        "id": "view-in-github",
        "colab_type": "text"
      },
      "source": [
        "<a href=\"https://colab.research.google.com/github/NikhilRana2076/PythonAssignment/blob/main/Assignment7.ipynb\" target=\"_parent\"><img src=\"https://colab.research.google.com/assets/colab-badge.svg\" alt=\"Open In Colab\"/></a>"
      ]
    },
    {
      "cell_type": "markdown",
      "metadata": {
        "id": "LLcq45A16Sno"
      },
      "source": [
        "1) Multiply following matrices\n",
        "  Using for loops and print the result.\n"
      ]
    },
    {
      "cell_type": "code",
      "metadata": {
        "colab": {
          "base_uri": "https://localhost:8080/"
        },
        "id": "HDBmmnu36nD5",
        "outputId": "e44c85df-e05f-4db9-814c-8914727628e9"
      },
      "source": [
        "A = [[1, 2, 3],\n",
        "    [4, 5, 6],\n",
        "    [7 ,8, 9]]\n",
        "\n",
        "B = [[111, 22, 33],\n",
        "    [44, 55, 56],\n",
        "    [47, 86, 19]]\n",
        "\n",
        "result = [[0,0,0],\n",
        "         [0,0,0],\n",
        "         [0,0,0]]\n",
        "print(\"The result is:\")  \n",
        "\n",
        "for i in range(len(A)):\n",
        "   for j in range(len(B[0])):\n",
        "      for k in range(len(B)):\n",
        "         result[i][j] += A[i][k] * B[k][j]\n",
        "\n",
        "for answer in result:\n",
        "   print(answer)"
      ],
      "execution_count": 14,
      "outputs": [
        {
          "output_type": "stream",
          "text": [
            "The result is:\n",
            "[340, 390, 202]\n",
            "[946, 879, 526]\n",
            "[1552, 1368, 850]\n"
          ],
          "name": "stdout"
        }
      ]
    },
    {
      "cell_type": "markdown",
      "metadata": {
        "id": "lLnKib7J93e3"
      },
      "source": [
        "2) Multiply following matrices"
      ]
    },
    {
      "cell_type": "code",
      "metadata": {
        "colab": {
          "base_uri": "https://localhost:8080/"
        },
        "id": "BrKU8in6-XVr",
        "outputId": "9fa321f9-9c8f-46f9-f3bd-a591deef816f"
      },
      "source": [
        "C = [[111, 22, 33, 44],\n",
        "    [44, 55, 56, 1],\n",
        "    [47, 86, 19, 2],\n",
        "    [1 , 2, 22, 3]]\n",
        "\n",
        "D = [[11, 22, 3, 4],\n",
        "    [4, 5, 6, 1],\n",
        "    [7, 6, 19, 2],\n",
        "    [1, 2, 22, 3]]\n",
        "\n",
        "result = [[0,0,0,0],\n",
        "         [0,0,0,0],\n",
        "         [0,0,0,0],\n",
        "         [0,0,0,0]]\n",
        "\n",
        "print(\"The result is:\")  \n",
        "\n",
        "for i in range(len(C)):\n",
        "   for j in range(len(D[0])):\n",
        "      for k in range(len(D)):\n",
        "         result[i][j] += C[i][k] * D[k][j]\n",
        "\n",
        "for answer in result:\n",
        "   print(answer)"
      ],
      "execution_count": 16,
      "outputs": [
        {
          "output_type": "stream",
          "text": [
            "The result is:\n",
            "[1584, 2838, 2060, 664]\n",
            "[1097, 1581, 1548, 346]\n",
            "[996, 1582, 1062, 318]\n",
            "[176, 170, 499, 59]\n"
          ],
          "name": "stdout"
        }
      ]
    },
    {
      "cell_type": "markdown",
      "metadata": {
        "id": "RcVK5xeR_yqq"
      },
      "source": [
        "3) Generate the following patterns using for loop"
      ]
    },
    {
      "cell_type": "code",
      "metadata": {
        "colab": {
          "base_uri": "https://localhost:8080/"
        },
        "id": "cMGhaQvv_2Lb",
        "outputId": "70949a24-c551-4804-90bc-bffd813b1ea3"
      },
      "source": [
        "#a\n",
        "rows= 6\n",
        "for i in range(1,rows+1):  \n",
        "  for j in range(2*i-1):  \n",
        "    print(\"F\",end = '')  \n",
        "  print() "
      ],
      "execution_count": 117,
      "outputs": [
        {
          "output_type": "stream",
          "text": [
            "F\n",
            "FFF\n",
            "FFFFF\n",
            "FFFFFFF\n",
            "FFFFFFFFF\n",
            "FFFFFFFFFFF\n"
          ],
          "name": "stdout"
        }
      ]
    },
    {
      "cell_type": "code",
      "metadata": {
        "colab": {
          "base_uri": "https://localhost:8080/"
        },
        "id": "Egj5j-MGBJ2T",
        "outputId": "e369afc3-214b-44a5-8e97-e070432ee345"
      },
      "source": [
        "#b\n",
        "f=0                                        \n",
        "s=1                                        \n",
        "for x in range(0,10):\n",
        " next=f+s                           \n",
        " f=s\n",
        " s=next\n",
        "\n",
        " for i in range(1):  \n",
        "  for j in range(f, s):  \n",
        "    print(\"F\",end = '')  \n",
        "  print() "
      ],
      "execution_count": 122,
      "outputs": [
        {
          "output_type": "stream",
          "text": [
            "\n",
            "F\n",
            "F\n",
            "FF\n",
            "FFF\n",
            "FFFFF\n",
            "FFFFFFFF\n",
            "FFFFFFFFFFFFF\n",
            "FFFFFFFFFFFFFFFFFFFFF\n",
            "FFFFFFFFFFFFFFFFFFFFFFFFFFFFFFFFFF\n"
          ],
          "name": "stdout"
        }
      ]
    }
  ]
}