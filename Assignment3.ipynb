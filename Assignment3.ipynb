{
  "nbformat": 4,
  "nbformat_minor": 0,
  "metadata": {
    "colab": {
      "name": "Assignment3.ipynb",
      "provenance": [],
      "collapsed_sections": [],
      "authorship_tag": "ABX9TyNkwZlje2nn0P/VzstEsJBw",
      "include_colab_link": true
    },
    "kernelspec": {
      "name": "python3",
      "display_name": "Python 3"
    },
    "language_info": {
      "name": "python"
    }
  },
  "cells": [
    {
      "cell_type": "markdown",
      "metadata": {
        "id": "view-in-github",
        "colab_type": "text"
      },
      "source": [
        "<a href=\"https://colab.research.google.com/github/NikhilRana2076/PythonAssignment/blob/main/Assignment3.ipynb\" target=\"_parent\"><img src=\"https://colab.research.google.com/assets/colab-badge.svg\" alt=\"Open In Colab\"/></a>"
      ]
    },
    {
      "cell_type": "markdown",
      "metadata": {
        "id": "4JkMyAwso8yW"
      },
      "source": [
        "1)Make a list of ten students in your class. Print the name of each student whose name starts with ‘B’."
      ]
    },
    {
      "cell_type": "code",
      "metadata": {
        "colab": {
          "base_uri": "https://localhost:8080/"
        },
        "id": "rnH6ctNopBEW",
        "outputId": "cb82906a-888f-4c68-9448-ba39e0699e6e"
      },
      "source": [
        "students= ['Ashim', 'Ashmin', 'Bibek', 'Bigesh', 'Bipul', 'Nikhil', 'Prakash', 'Rochak', 'Roshan', 'Thanu']\n",
        "test = 'B'\n",
        "name = [idx for idx in students if idx[0].lower() == test.lower()]\n",
        "print(\"Names starting with the letter 'B' are:\\n \" ,name)"
      ],
      "execution_count": null,
      "outputs": [
        {
          "output_type": "stream",
          "text": [
            "Names starting with the letter 'B' are:\n",
            "  ['Bibek', 'Bigesh', 'Bipul']\n"
          ],
          "name": "stdout"
        }
      ]
    },
    {
      "cell_type": "markdown",
      "metadata": {
        "id": "-O2pbgRj3oo9"
      },
      "source": [
        "2)Make a list of ten students in your class. Print the name of each student whose name ends with ‘a’."
      ]
    },
    {
      "cell_type": "code",
      "metadata": {
        "colab": {
          "base_uri": "https://localhost:8080/"
        },
        "id": "xjLuzndpwrfd",
        "outputId": "73f9b819-058f-4cd9-bff4-d91c15e52776"
      },
      "source": [
        "students= ['Archana', 'Ashim', 'Ashmin', 'Kritika', 'Nikhil', 'Ojashwi', 'Prakash', 'Pratichya', 'Rochak', 'Thanu']\n",
        "test = 'a'\n",
        "name = [idx for idx in students if idx[-1].lower() == test.lower()]\n",
        "print(\"Names ending with the letter 'a' are:\\n \" ,name)"
      ],
      "execution_count": null,
      "outputs": [
        {
          "output_type": "stream",
          "text": [
            "Names ending with the letter 'a' are:\n",
            "  ['Archana', 'Kritika', 'Pratichya']\n"
          ],
          "name": "stdout"
        }
      ]
    },
    {
      "cell_type": "markdown",
      "metadata": {
        "id": "tyyIGkKz2J78"
      },
      "source": [
        "3)Print all the unique elements in the following list \n",
        "fifa = ['Italy', 'Argentina', 'Germany', 'Brazil', 'France', 'Brazil', 'Italy', 'Spain', 'Germany', 'France']"
      ]
    },
    {
      "cell_type": "code",
      "metadata": {
        "id": "FcM1UnMX6vX8",
        "colab": {
          "base_uri": "https://localhost:8080/"
        },
        "outputId": "c7aa713b-394f-4b91-db95-f225cf7ce409"
      },
      "source": [
        "import numpy\n",
        "fifa = ['Italy','Argentina','Germany','Brazil','France','Brazil','Italy','Spain','Germany','France']\n",
        "print(\"\\nUnique elements of the list is:\", numpy.unique(fifa))"
      ],
      "execution_count": 28,
      "outputs": [
        {
          "output_type": "stream",
          "text": [
            "\n",
            "Unique elements of the list is: ['Argentina' 'Brazil' 'France' 'Germany' 'Italy' 'Spain']\n"
          ],
          "name": "stdout"
        }
      ]
    },
    {
      "cell_type": "markdown",
      "metadata": {
        "id": "NlpjddZl27HJ"
      },
      "source": [
        "4)Change the first alphabet of all elements of the following list to capital.\n",
        "Bob = [‘hurricane’, ’tambourine’, ’blowing’, ’numb’]\n"
      ]
    },
    {
      "cell_type": "code",
      "metadata": {
        "colab": {
          "base_uri": "https://localhost:8080/"
        },
        "id": "uiTB_pmd4LM1",
        "outputId": "b4314b04-2b82-41b3-a56e-dbc22e76c4f5"
      },
      "source": [
        " Bob = ['hurricane', 'tambourine', 'blowing', 'numb']\n",
        " Bob = [names.title() for names in Bob]\n",
        " print(Bob)"
      ],
      "execution_count": 25,
      "outputs": [
        {
          "output_type": "stream",
          "text": [
            "['Hurricane', 'Tambourine', 'Blowing', 'Numb']\n"
          ],
          "name": "stdout"
        }
      ]
    },
    {
      "cell_type": "markdown",
      "metadata": {
        "id": "o3gCbo38--wE"
      },
      "source": [
        "5)A = [‘a’,’b’,’c’,’d’] B = [‘1’,’a’,’2’,’b’]\n",
        "Find A ⋃ B and A ∩ B\n",
        "\n"
      ]
    },
    {
      "cell_type": "code",
      "metadata": {
        "colab": {
          "base_uri": "https://localhost:8080/"
        },
        "id": "XO0IIrrrAfOa",
        "outputId": "9bb9fb3b-18bb-4cc0-81e9-210c47b658b5"
      },
      "source": [
        "import numpy\n",
        "A= ['a', 'b', 'c', 'd']\n",
        "B= ['1', 'a', '2', 'b']\n",
        "combine= list(A+B)\n",
        "print(\"\\nThe union of the list A and B is:\", numpy.unique(combine))\n",
        "\n",
        "intersect = list(set(A).intersection(set(B)))\n",
        "intersect.sort()\n",
        "print(\"The intersection of the list A and B is:\", intersect)"
      ],
      "execution_count": 63,
      "outputs": [
        {
          "output_type": "stream",
          "text": [
            "\n",
            "The union of the list A and B is: ['1' '2' 'a' 'b' 'c' 'd']\n",
            "The intersection of the list A and B is: ['a', 'b']\n"
          ],
          "name": "stdout"
        }
      ]
    },
    {
      "cell_type": "markdown",
      "metadata": {
        "id": "CKXRAAEcEf2z"
      },
      "source": [
        "6)Calculate the mean and standard deviation of the following list:\n",
        "Numbers = [1,2,3,5,88,99,55,33,41,52]\n"
      ]
    },
    {
      "cell_type": "code",
      "metadata": {
        "colab": {
          "base_uri": "https://localhost:8080/"
        },
        "id": "uOKKLuWGEhld",
        "outputId": "ec9c540b-007f-499e-f46d-0694672e6983"
      },
      "source": [
        "import statistics\n",
        "Numbers = [1,2,3,5,88,99,55,33,41,52]\n",
        "avg = statistics.mean(Numbers)\n",
        "print(\"The mean of the numbers given in the lists is %.2f\", avg)\n",
        "\n",
        "std = statistics.stdev(Numbers)\n",
        "print(\"The standard deviation of the numbers given in the lists: %.4f\" %std)"
      ],
      "execution_count": 53,
      "outputs": [
        {
          "output_type": "stream",
          "text": [
            "The mean of the numbers given in the lists is %.2f 37.9\n",
            "The standard deviation of the numbers given in the lists: 36.0846\n"
          ],
          "name": "stdout"
        }
      ]
    }
  ]
}