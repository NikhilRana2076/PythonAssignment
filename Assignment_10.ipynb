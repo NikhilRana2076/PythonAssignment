{
  "nbformat": 4,
  "nbformat_minor": 0,
  "metadata": {
    "colab": {
      "name": "Assignment_10.ipynb",
      "provenance": [],
      "collapsed_sections": [],
      "authorship_tag": "ABX9TyN5L+DhW5V3PSCkffvegP7y",
      "include_colab_link": true
    },
    "kernelspec": {
      "name": "python3",
      "display_name": "Python 3"
    },
    "language_info": {
      "name": "python"
    }
  },
  "cells": [
    {
      "cell_type": "markdown",
      "metadata": {
        "id": "view-in-github",
        "colab_type": "text"
      },
      "source": [
        "<a href=\"https://colab.research.google.com/github/NikhilRana2076/PythonAssignment/blob/main/Assignment_10.ipynb\" target=\"_parent\"><img src=\"https://colab.research.google.com/assets/colab-badge.svg\" alt=\"Open In Colab\"/></a>"
      ]
    },
    {
      "cell_type": "markdown",
      "metadata": {
        "id": "MUWUkR5V1ErM"
      },
      "source": [
        "1) Find the inverse of the following matrices.\n",
        "\n",
        "A= [1 2 3\n",
        "\n",
        "55 66 7]\n",
        "\n",
        "B= [1 2 3\n",
        "\n",
        "55 66 77\n",
        "\n",
        "6 7 12]\n",
        "\n",
        "\n",
        "C= [1 2 3 8 \n",
        "\n",
        "5 6 7  5\n",
        "\n",
        "6 7 12 12\n",
        "\n",
        "11 12 13 20]"
      ]
    },
    {
      "cell_type": "code",
      "metadata": {
        "colab": {
          "base_uri": "https://localhost:8080/"
        },
        "id": "hrm5peExOrSg",
        "outputId": "684dc58f-fa9e-4a5c-c6c0-ba756c994304"
      },
      "source": [
        "import numpy as np\n",
        "  \n",
        "A = np.array([[1, 2, 3], [55, 66, 7]])\n",
        "print(A)\n",
        "try:\n",
        "  A_inv = np.linalg.inv(A)\n",
        "except:\n",
        "  print(\"For inverse the martix should be square.\\n\")\n",
        "  \n",
        "B = np.array([[1, 2, 3], \n",
        "                [55, 66, 7], \n",
        "                [6, 7, 12]])\n",
        "  \n",
        "inverse_array = np.linalg.inv(B)\n",
        "print(\"Inverse array is \")\n",
        "print(inverse_array)\n",
        "print()\n",
        "  \n",
        "C = np.array([[1, 2, 3, 8], \n",
        "                [5, 6, 7, 5],\n",
        "                [6, 7, 12, 12], \n",
        "                [11, 12, 13, 20]])\n",
        "  \n",
        "inverse_array = np.linalg.inv(C)\n",
        "print(\"Inverse array is \")\n",
        "print(inverse_array)\n",
        "print()\n",
        "  "
      ],
      "execution_count": 57,
      "outputs": [
        {
          "output_type": "stream",
          "text": [
            "[[ 1  2  3]\n",
            " [55 66  7]]\n",
            "For inverse the martix should be square.\n",
            "\n",
            "Inverse array is \n",
            "[[-1.41254753  0.00570342  0.34980989]\n",
            " [ 1.17490494  0.01140684 -0.30038023]\n",
            " [ 0.02091255 -0.0095057   0.08365019]]\n",
            "\n",
            "Inverse array is \n",
            "[[-0.85576923 -0.78205128  0.25        0.38782051]\n",
            " [ 0.75        1.         -0.5        -0.25      ]\n",
            " [-0.08653846 -0.06410256  0.25       -0.09935897]\n",
            " [ 0.07692308 -0.12820513 -0.          0.05128205]]\n",
            "\n"
          ],
          "name": "stdout"
        }
      ]
    },
    {
      "cell_type": "markdown",
      "metadata": {
        "id": "cpAQZLAFUvus"
      },
      "source": [
        "2) Find the values of x1, x2 and x3.\n",
        "\n",
        "5x1 + 4 x2 + 3 x3 = 5\n",
        "\n",
        "6x1 - 8x2   + 7x3 = 15\n",
        "\n",
        "x1   - x2     +10x3 = 25   \n"
      ]
    },
    {
      "cell_type": "code",
      "metadata": {
        "colab": {
          "base_uri": "https://localhost:8080/"
        },
        "id": "GszNFQZXU0tn",
        "outputId": "d0e7303b-9bc1-4ef2-a5af-12aaaaa4745d"
      },
      "source": [
        "import numpy as np\n",
        "arr = np.array([[5, 4, 3], \n",
        "                [6, -8, 7], \n",
        "                [1, -1, 10]])\n",
        "  \n",
        "inverse_array = np.linalg.inv(arr)\n",
        "print(\"Inverse array is \")\n",
        "print(inverse_array)\n",
        "print()\n",
        "\n",
        "print(\"\\n The values of x1, x2, x3 are: \")\n",
        "A= inverse_array\n",
        "B = [[5],[15], [25]]\n",
        "    \n",
        "result= [[0],[0],[0]]\n",
        "  \n",
        "result = np.dot(A,B)\n",
        " \n",
        "for r in result:\n",
        "    print(r)"
      ],
      "execution_count": null,
      "outputs": [
        {
          "output_type": "stream",
          "text": [
            "Inverse array is \n",
            "[[ 0.12784588  0.07530648 -0.0910683 ]\n",
            " [ 0.09281961 -0.08231173  0.02977233]\n",
            " [-0.00350263 -0.01576182  0.11208406]]\n",
            "\n",
            "\n",
            " The values of x1, x2, x3 are: \n",
            "[-0.50788091]\n",
            "[-0.0262697]\n",
            "[2.54816112]\n"
          ],
          "name": "stdout"
        }
      ]
    },
    {
      "cell_type": "markdown",
      "metadata": {
        "id": "7jMThErLZdaG"
      },
      "source": [
        "3) Write a NumPy program to create an array of 10 zeros,10 ones, 10 fives.\n"
      ]
    },
    {
      "cell_type": "code",
      "metadata": {
        "colab": {
          "base_uri": "https://localhost:8080/"
        },
        "id": "hS1OmAstZfsH",
        "outputId": "cf16e6df-5ac0-4ed4-fd1c-be60fadd9de3"
      },
      "source": [
        "import numpy as np\n",
        "array=np.zeros(10)\n",
        "print(\"An array of 10 zeros:\")\n",
        "print(array)\n",
        "array=np.ones(10)\n",
        "print(\"An array of 10 ones:\")\n",
        "print(array)\n",
        "array=np.ones(10)*5\n",
        "print(\"An array of 10 fives:\")\n",
        "print(array)"
      ],
      "execution_count": null,
      "outputs": [
        {
          "output_type": "stream",
          "text": [
            "An array of 10 zeros:\n",
            "[0. 0. 0. 0. 0. 0. 0. 0. 0. 0.]\n",
            "An array of 10 ones:\n",
            "[1. 1. 1. 1. 1. 1. 1. 1. 1. 1.]\n",
            "An array of 10 fives:\n",
            "[5. 5. 5. 5. 5. 5. 5. 5. 5. 5.]\n"
          ],
          "name": "stdout"
        }
      ]
    },
    {
      "cell_type": "markdown",
      "metadata": {
        "id": "UdhnZUDFalBh"
      },
      "source": [
        "4) Write a NumPy program to compute the eigenvalues and eigenvectors of a given square array.\n",
        "B= [1 2 3 \n",
        "\n",
        "55 66 7\n",
        "\n",
        "6 7 12]"
      ]
    },
    {
      "cell_type": "code",
      "metadata": {
        "colab": {
          "base_uri": "https://localhost:8080/"
        },
        "id": "4Wby_LtQav_n",
        "outputId": "6f2ba676-cc27-48a5-fb86-cd5489b14119"
      },
      "source": [
        "import numpy as np\n",
        "m = np.mat([[1, 2, 3], \n",
        "                [55, 66, 7], \n",
        "                [6, 7, 12]])\n",
        "print(\"Original matrix:\")\n",
        "print(\"a\\n\", m)\n",
        "w, v = np.linalg.eig(m) \n",
        "print( \"Eigenvalues of the said matrix\\n\",w)\n",
        "print( \"Eigenvectors of the said matrix\\n\",v)"
      ],
      "execution_count": null,
      "outputs": [
        {
          "output_type": "stream",
          "text": [
            "Original matrix:\n",
            "a\n",
            " [[ 1  2  3]\n",
            " [55 66  7]\n",
            " [ 6  7 12]]\n",
            "Eigenvalues of the said matrix\n",
            " [68.81905127 -0.70229368 10.88324241]\n",
            "Eigenvectors of the said matrix\n",
            " [[ 0.03480353  0.77221412  0.21267997]\n",
            " [ 0.99144253 -0.6351919  -0.32907749]\n",
            " [ 0.12581905 -0.01471714  0.92004089]]\n"
          ],
          "name": "stdout"
        }
      ]
    },
    {
      "cell_type": "markdown",
      "metadata": {
        "id": "qIPCMzXubs-T"
      },
      "source": [
        "5) Write a NumPy program to generate five random numbers from the normal distribution.\n",
        "\n"
      ]
    },
    {
      "cell_type": "code",
      "metadata": {
        "colab": {
          "base_uri": "https://localhost:8080/"
        },
        "id": "hL9R1ze1bwAr",
        "outputId": "20af3da3-ed25-425d-b9ba-a6d4107e4ff3"
      },
      "source": [
        "import numpy as np\n",
        "x = np.random.normal(size=5)\n",
        "print(x)"
      ],
      "execution_count": null,
      "outputs": [
        {
          "output_type": "stream",
          "text": [
            "[-2.07178985 -0.5965234   1.39320665  1.17318249 -1.81762955]\n"
          ],
          "name": "stdout"
        }
      ]
    },
    {
      "cell_type": "markdown",
      "metadata": {
        "id": "xzRc9qincgEH"
      },
      "source": [
        "6) Write a NumPy program to generate six random integers between 10 and 30.\n"
      ]
    },
    {
      "cell_type": "code",
      "metadata": {
        "colab": {
          "base_uri": "https://localhost:8080/"
        },
        "id": "ZefqWTtPcl-8",
        "outputId": "f417dc4f-86fa-489a-f2ff-10b2ed986a6b"
      },
      "source": [
        "import numpy as np\n",
        "x = np.random.randint(low=10, high=30, size=6)\n",
        "print(x)"
      ],
      "execution_count": null,
      "outputs": [
        {
          "output_type": "stream",
          "text": [
            "[15 22 10 25 18 17]\n"
          ],
          "name": "stdout"
        }
      ]
    },
    {
      "cell_type": "markdown",
      "metadata": {
        "id": "uBlImlWOc92T"
      },
      "source": [
        "7) Write a NumPy program to create a 3x3x3 array with random values.\n"
      ]
    },
    {
      "cell_type": "code",
      "metadata": {
        "colab": {
          "base_uri": "https://localhost:8080/"
        },
        "id": "cGcQmNd0c-3Q",
        "outputId": "2fcf33e9-0f79-474c-df5e-2fc7670d2259"
      },
      "source": [
        "import numpy as np\n",
        "x = np.random.random((3,3,3))\n",
        "print(x)"
      ],
      "execution_count": null,
      "outputs": [
        {
          "output_type": "stream",
          "text": [
            "[[[0.98673068 0.3353269  0.17554909]\n",
            "  [0.83252441 0.96207668 0.68561838]\n",
            "  [0.84624178 0.81665328 0.30847146]]\n",
            "\n",
            " [[0.87253405 0.73311285 0.85076937]\n",
            "  [0.83564758 0.7514812  0.54069952]\n",
            "  [0.91765965 0.27544515 0.55003476]]\n",
            "\n",
            " [[0.63878755 0.97192004 0.04247284]\n",
            "  [0.19878941 0.72136041 0.7088099 ]\n",
            "  [0.14664395 0.94056774 0.00547557]]]\n"
          ],
          "name": "stdout"
        }
      ]
    },
    {
      "cell_type": "markdown",
      "metadata": {
        "id": "RC9jJ1bpdobg"
      },
      "source": [
        "8) Write a NumPy program to create a 5x5 array with random values and find the minimum and maximum values.\n"
      ]
    },
    {
      "cell_type": "code",
      "metadata": {
        "colab": {
          "base_uri": "https://localhost:8080/"
        },
        "id": "6rrClhTPdp35",
        "outputId": "0a2f2e9e-2c01-45e4-b7cd-d606bcd2cefa"
      },
      "source": [
        "import numpy as np\n",
        "x = np.random.random((5,5))\n",
        "print(\"Original Array:\")\n",
        "print(x) \n",
        "xmin, xmax = x.min(), x.max()\n",
        "print(\"\\nThe minimum value is\", xmin)\n",
        "print(\"The maximum value is\", xmax)\n",
        "\n"
      ],
      "execution_count": null,
      "outputs": [
        {
          "output_type": "stream",
          "text": [
            "Original Array:\n",
            "[[0.34822957 0.62372785 0.92214217 0.07811551 0.25606508]\n",
            " [0.98986797 0.53179231 0.01720714 0.94275862 0.18750238]\n",
            " [0.87136037 0.11886019 0.24499648 0.66494109 0.87771564]\n",
            " [0.06755365 0.63087482 0.25335802 0.89472839 0.16643079]\n",
            " [0.21063269 0.30801074 0.28304016 0.93815949 0.40582071]]\n",
            "\n",
            "The minimum value is 0.017207143305550288\n",
            "The maximum value is 0.9898679712175589\n"
          ],
          "name": "stdout"
        }
      ]
    },
    {
      "cell_type": "markdown",
      "metadata": {
        "id": "bf7Lgc53NQhH"
      },
      "source": [
        "9) Write a NumPy program to normalize a 3x3 random matrix.\n"
      ]
    },
    {
      "cell_type": "code",
      "metadata": {
        "colab": {
          "base_uri": "https://localhost:8080/"
        },
        "id": "LHitIBGYNTs9",
        "outputId": "cf18a032-6d71-4317-a90c-8dd4069e07de"
      },
      "source": [
        "import numpy as np\n",
        "x= np.random.random((3,3))\n",
        "print(\"Original Array:\")\n",
        "print(x)\n",
        "xmax, xmin = x.max(), x.min()\n",
        "x = (x - xmin)/(xmax - xmin)\n",
        "print(\"\\nAfter normalization:\")\n",
        "print(x)"
      ],
      "execution_count": 5,
      "outputs": [
        {
          "output_type": "stream",
          "text": [
            "Original Array:\n",
            "[[0.89086553 0.73487058 0.24082275]\n",
            " [0.18852878 0.71651028 0.96862019]\n",
            " [0.45594411 0.37475949 0.97960358]]\n",
            "\n",
            "After normalization:\n",
            "[[0.88782597 0.69063228 0.06610497]\n",
            " [0.         0.66742298 0.98611587]\n",
            " [0.33804051 0.23541479 1.        ]]\n"
          ],
          "name": "stdout"
        }
      ]
    },
    {
      "cell_type": "markdown",
      "metadata": {
        "id": "GsQ1IzOmQ09D"
      },
      "source": [
        "10) Write a NumPy program to create a random vector of size 10 and sort it.\n"
      ]
    },
    {
      "cell_type": "code",
      "metadata": {
        "colab": {
          "base_uri": "https://localhost:8080/"
        },
        "id": "CxOzlKtdQ9SC",
        "outputId": "650b7c7c-27cc-433d-f2d2-6b5cfc094ba8"
      },
      "source": [
        "import numpy as np\n",
        "x = np.random.random(10)\n",
        "print(\"Original array:\")\n",
        "print(x)\n",
        "x.sort()\n",
        "print(\"\\nSorted array:\")\n",
        "print(x)"
      ],
      "execution_count": 6,
      "outputs": [
        {
          "output_type": "stream",
          "text": [
            "Original array:\n",
            "[0.00458559 0.90753882 0.32421787 0.66005943 0.21335033 0.96329255\n",
            " 0.77433812 0.25348729 0.58743261 0.84974284]\n",
            "\n",
            "Sorted array:\n",
            "[0.00458559 0.21335033 0.25348729 0.32421787 0.58743261 0.66005943\n",
            " 0.77433812 0.84974284 0.90753882 0.96329255]\n"
          ],
          "name": "stdout"
        }
      ]
    },
    {
      "cell_type": "markdown",
      "metadata": {
        "id": "n8zCTs9GRNHL"
      },
      "source": [
        "11) Write a NumPy program to check if two random arrays are equal or not.\n"
      ]
    },
    {
      "cell_type": "code",
      "metadata": {
        "colab": {
          "base_uri": "https://localhost:8080/"
        },
        "id": "9OiAZ1NHRPhW",
        "outputId": "5447f3a3-cff9-4b41-e2dd-5b98ce3c2f04"
      },
      "source": [
        "import numpy as np\n",
        "x = np.random.randint(0,2,6)\n",
        "print(\"First array:\")\n",
        "print(x)\n",
        "y = np.random.randint(0,2,6)\n",
        "print(\"Second array:\")\n",
        "print(y)\n",
        "print(\"\\nTest above two arrays are equal or not!\")\n",
        "array_equal = np.allclose(x, y)\n",
        "print(array_equal)"
      ],
      "execution_count": 7,
      "outputs": [
        {
          "output_type": "stream",
          "text": [
            "First array:\n",
            "[1 1 1 0 1 0]\n",
            "Second array:\n",
            "[0 0 0 1 1 1]\n",
            "\n",
            "Test above two arrays are equal or not!\n",
            "False\n"
          ],
          "name": "stdout"
        }
      ]
    },
    {
      "cell_type": "markdown",
      "metadata": {
        "id": "kVmOLsqPRhG-"
      },
      "source": [
        "12) Write a NumPy program to create a random vector of size 15 and replace the maximum value by -1.\n"
      ]
    },
    {
      "cell_type": "code",
      "metadata": {
        "colab": {
          "base_uri": "https://localhost:8080/"
        },
        "id": "3J4PctEjRiRH",
        "outputId": "487f4662-0c31-4066-c409-247bc154a637"
      },
      "source": [
        "import numpy as np\n",
        "x = np.random.random(15)\n",
        "print(\"Original array:\")\n",
        "print(x)\n",
        "x[x.argmax()] = -1\n",
        "print(\"\\nMaximum value replaced by -1:\")\n",
        "print(x)\n"
      ],
      "execution_count": 9,
      "outputs": [
        {
          "output_type": "stream",
          "text": [
            "Original array:\n",
            "[0.64704811 0.05584391 0.36409024 0.53970666 0.70179511 0.82400611\n",
            " 0.83534335 0.35433891 0.426412   0.84986262 0.25638872 0.33814446\n",
            " 0.12347345 0.95208346 0.83003698]\n",
            "\n",
            "Maximum value replaced by -1:\n",
            "[ 0.64704811  0.05584391  0.36409024  0.53970666  0.70179511  0.82400611\n",
            "  0.83534335  0.35433891  0.426412    0.84986262  0.25638872  0.33814446\n",
            "  0.12347345 -1.          0.83003698]\n"
          ],
          "name": "stdout"
        }
      ]
    },
    {
      "cell_type": "markdown",
      "metadata": {
        "id": "hUwjNyOuSHBG"
      },
      "source": [
        "13) Write a NumPy program to sort a given array of shape 2 along the first axis, last axis and on a flattened array.\n",
        "\n",
        "A= [1 2\n",
        "\n",
        "11 12]"
      ]
    },
    {
      "cell_type": "code",
      "metadata": {
        "colab": {
          "base_uri": "https://localhost:8080/"
        },
        "id": "e1GcSI17SNsP",
        "outputId": "642fb7eb-e69e-4298-f646-71cf2881b449"
      },
      "source": [
        "import numpy as np\n",
        "a = np.array([[1,2],[11,12]])\n",
        "print(\"Original array:\")\n",
        "print(a)\n",
        "print(\"\\nSort the array along the first axis:\")\n",
        "print(np.sort(a, axis=0))\n",
        "print(\"\\nSort the array along the last axis:\")\n",
        "print(np.sort(a))\n",
        "print(\"\\nSort the flattened array:\")\n",
        "print(np.sort(a, axis=None))"
      ],
      "execution_count": 12,
      "outputs": [
        {
          "output_type": "stream",
          "text": [
            "Original array:\n",
            "[[ 1  2]\n",
            " [11 12]]\n",
            "\n",
            "Sort the array along the first axis:\n",
            "[[ 1  2]\n",
            " [11 12]]\n",
            "\n",
            "Sort the array along the last axis:\n",
            "[[ 1  2]\n",
            " [11 12]]\n",
            "\n",
            "Sort the flattened array:\n",
            "[ 1  2 11 12]\n"
          ],
          "name": "stdout"
        }
      ]
    },
    {
      "cell_type": "markdown",
      "metadata": {
        "id": "GSiYh10SShNq"
      },
      "source": [
        "14) Write a NumPy program to sort the student id with increasing height of the students from given students id and height. Print the integer indices that describe the sort order by multiple columns and the sorted data.\n",
        "\n",
        "id       height\n",
        "\n",
        "123 145\n",
        "\n",
        "126 155\n",
        "\n",
        "140 165\n",
        "\n",
        "152 153"
      ]
    },
    {
      "cell_type": "code",
      "metadata": {
        "colab": {
          "base_uri": "https://localhost:8080/"
        },
        "id": "bLOj3QChTmZs",
        "outputId": "b66b127f-9e76-4eae-b8e7-46aa6141e60f"
      },
      "source": [
        "import numpy as np\n",
        "student_id = np.array([123, 126, 140, 152])\n",
        "student_height = np.array([145, 155, 165, 153])\n",
        "#Sort by studen_id then by student_height\n",
        "indices = np.lexsort((student_id, student_height))\n",
        "print(\"Sorted indices:\")\n",
        "print(indices)\n",
        "print(\"\\nSorted data:\")\n",
        "for n in indices:\n",
        "  print(student_id[n], student_height[n])"
      ],
      "execution_count": 17,
      "outputs": [
        {
          "output_type": "stream",
          "text": [
            "Sorted indices:\n",
            "[0 3 1 2]\n",
            "\n",
            "Sorted data:\n",
            "123 145\n",
            "152 153\n",
            "126 155\n",
            "140 165\n"
          ],
          "name": "stdout"
        }
      ]
    },
    {
      "cell_type": "markdown",
      "metadata": {
        "id": "CRUtUiCOVvNB"
      },
      "source": [
        "15) Write a NumPy program to get the indices of the sorted elements of a given array.\n",
        "\n",
        "X = [1023 5202 6230 1671 1682 5241 4532]\n"
      ]
    },
    {
      "cell_type": "code",
      "metadata": {
        "colab": {
          "base_uri": "https://localhost:8080/"
        },
        "id": "Xrm1D0f-VtBA",
        "outputId": "59213fb1-06d2-453b-e171-dc1dd3e1c545"
      },
      "source": [
        "import numpy as np\n",
        "student_id = np.array([1023, 5202, 6230, 1671, 1682, 5241, 4532])\n",
        "print(\"Original array:\")\n",
        "print(student_id)\n",
        "i = np.argsort(student_id)\n",
        "print(\"\\nIndices of the sorted elements of a given array:\")\n",
        "print(i)"
      ],
      "execution_count": 18,
      "outputs": [
        {
          "output_type": "stream",
          "text": [
            "Original array:\n",
            "[1023 5202 6230 1671 1682 5241 4532]\n",
            "\n",
            "Indices of the sorted elements of a given array:\n",
            "[0 3 4 6 1 5 2]\n"
          ],
          "name": "stdout"
        }
      ]
    },
    {
      "cell_type": "markdown",
      "metadata": {
        "id": "BzqgD-yTYKa8"
      },
      "source": [
        ""
      ]
    },
    {
      "cell_type": "markdown",
      "metadata": {
        "id": "JNtvxjIUXr8c"
      },
      "source": [
        "16) Write a NumPy program to sort a given complex array using the real part first, then the imaginary part.\n",
        "\n",
        "Y = [(1+2j), (3-1j), (3-2j), (4-3j), (3+5j)]"
      ]
    },
    {
      "cell_type": "code",
      "metadata": {
        "colab": {
          "base_uri": "https://localhost:8080/"
        },
        "id": "tmOJSvg1X3OH",
        "outputId": "2da7c45c-49f3-498d-93af-2009a87b08b9"
      },
      "source": [
        "import numpy as np\n",
        "complex_num = [1 + 2j, 3 - 1j, 3 - 2j, 4 - 3j, 3 + 5j]\n",
        "print(\"Original array:\")\n",
        "print(complex_num)\n",
        "print(\"\\nSorted a given complex array using the real part first, then the imaginary part.\")\n",
        "print(np.sort_complex(complex_num))"
      ],
      "execution_count": 15,
      "outputs": [
        {
          "output_type": "stream",
          "text": [
            "Original array:\n",
            "[(1+2j), (3-1j), (3-2j), (4-3j), (3+5j)]\n",
            "\n",
            "Sorted a given complex array using the real part first, then the imaginary part.\n",
            "[1.+2.j 3.-2.j 3.-1.j 3.+5.j 4.-3.j]\n"
          ],
          "name": "stdout"
        }
      ]
    },
    {
      "cell_type": "markdown",
      "metadata": {
        "id": "clEZ1cMAYNQI"
      },
      "source": [
        "17) Multiply AXB\n",
        "\n",
        "A= [1 2 \n",
        "\n",
        "11 12\n",
        "\n",
        "12 15]\n",
        "\n",
        "B= [1 2 3\n",
        "\n",
        "11 12 13]\n"
      ]
    },
    {
      "cell_type": "code",
      "metadata": {
        "colab": {
          "base_uri": "https://localhost:8080/"
        },
        "id": "215hRsGPYZeq",
        "outputId": "1ea0145d-bf38-4a36-bab5-573532b2c747"
      },
      "source": [
        "import numpy as np\n",
        "\n",
        "A = np.mat([[1, 2], \n",
        "                [11, 12], \n",
        "                [12, 15]])\n",
        "B = np.mat([[1, 2, 3], \n",
        "                [11, 12, 13]])\n",
        "    \n",
        "multi= ([[0, 0, 0], \n",
        "                [0, 0, 0], \n",
        "                [0, 0, 0]])\n",
        "  \n",
        "multi = np.dot(A,B)\n",
        " \n",
        "for r in multi:\n",
        "    print(r)"
      ],
      "execution_count": 21,
      "outputs": [
        {
          "output_type": "stream",
          "text": [
            "[[23 26 29]]\n",
            "[[143 166 189]]\n",
            "[[177 204 231]]\n"
          ],
          "name": "stdout"
        }
      ]
    },
    {
      "cell_type": "markdown",
      "metadata": {
        "id": "GvQmFQ-NZiak"
      },
      "source": [
        "18) Write a NumPy program to compute ex, element-wise of a given array.\n",
        "\n",
        "A = [1,5,6,9]\n"
      ]
    },
    {
      "cell_type": "code",
      "metadata": {
        "colab": {
          "base_uri": "https://localhost:8080/"
        },
        "id": "pCgtLPr3Zn3l",
        "outputId": "de85616f-36b6-459c-a9c9-d5b8b73a2120"
      },
      "source": [
        "import numpy as np\n",
        "x = np.array([1, 5, 6, 9], np.float32)\n",
        "print(\"Original array: \")\n",
        "print(x)\n",
        "print(\"\\ne^x, element-wise of the said:\")\n",
        "r = np.exp(x)\n",
        "print(r)"
      ],
      "execution_count": 22,
      "outputs": [
        {
          "output_type": "stream",
          "text": [
            "Original array: \n",
            "[1. 5. 6. 9.]\n",
            "\n",
            "e^x, element-wise of the said:\n",
            "[2.7182820e+00 1.4841316e+02 4.0342877e+02 8.1030840e+03]\n"
          ],
          "name": "stdout"
        }
      ]
    },
    {
      "cell_type": "markdown",
      "metadata": {
        "id": "OVPFvnlPaKq3"
      },
      "source": [
        "19) Write a NumPy program to compute natural, base 10, and base 2 logarithms for all elements in a given array.\n",
        "\n",
        "A = [1,2.5,56,19]\n"
      ]
    },
    {
      "cell_type": "code",
      "metadata": {
        "colab": {
          "base_uri": "https://localhost:8080/"
        },
        "id": "ZLBfRIg9aO0J",
        "outputId": "6a8b3d9d-3b7d-449d-9829-21db5e42f689"
      },
      "source": [
        "import numpy as np\n",
        "x = np.array([1, 2.5, 56, 19])\n",
        "print(\"Original array: \")\n",
        "print(x)\n",
        "print(\"\\nNatural log =\", np.log(x))\n",
        "print(\"Common log =\", np.log10(x))\n",
        "print(\"Base 2 log =\", np.log2(x))"
      ],
      "execution_count": 23,
      "outputs": [
        {
          "output_type": "stream",
          "text": [
            "Original array: \n",
            "[ 1.   2.5 56.  19. ]\n",
            "\n",
            "Natural log = [0.         0.91629073 4.02535169 2.94443898]\n",
            "Common log = [0.         0.39794001 1.74818803 1.2787536 ]\n",
            "Base 2 log = [0.         1.32192809 5.80735492 4.24792751]\n"
          ],
          "name": "stdout"
        }
      ]
    },
    {
      "cell_type": "markdown",
      "metadata": {
        "id": "43goEg0QaqVY"
      },
      "source": [
        "20) Write a NumPy program to calculate the difference between the maximum and the minimum values of a given array along the second axis.\n",
        "\n",
        "A = [[ 0 1 2 3 4 5]\n",
        "\n",
        "[ 6 7 8 9 10 11]]\n"
      ]
    },
    {
      "cell_type": "code",
      "metadata": {
        "colab": {
          "base_uri": "https://localhost:8080/"
        },
        "id": "pWa_zPR3a03O",
        "outputId": "3ff0b440-9266-4455-8201-d5640f00b156"
      },
      "source": [
        "import numpy as np\n",
        "A = np.array([[ 0, 1, 2, 3, 4, 5],\n",
        "              [6, 7, 8, 9, 10, 11]])\n",
        "r1 = np.ptp(A, 1)\n",
        "r2 = np.amax(A, 1) - np.amin(A, 1)\n",
        "assert np.allclose(r1, r2)\n",
        "print(\"Diff. between max and min values of the said array:\")\n",
        "print(r1)"
      ],
      "execution_count": 33,
      "outputs": [
        {
          "output_type": "stream",
          "text": [
            "Diff. between max and min values of the said array:\n",
            "[5 5]\n"
          ],
          "name": "stdout"
        }
      ]
    },
    {
      "cell_type": "markdown",
      "metadata": {
        "id": "ICZbC2xldQ7s"
      },
      "source": [
        "21) Write a NumPy program to compute the median of a flattened given array.\n",
        "\n",
        "B =[[ 0 1 2 3 4 5]\n",
        "\n",
        "[ 6 7 8 9 10 11]]"
      ]
    },
    {
      "cell_type": "code",
      "metadata": {
        "colab": {
          "base_uri": "https://localhost:8080/"
        },
        "id": "48h5rw_LdghH",
        "outputId": "4afa0e3c-4d10-4df1-cb20-9e5f70b72004"
      },
      "source": [
        "import numpy as np\n",
        "B = np.array([[ 0, 1, 2, 3, 4, 5],\n",
        "              [6, 7, 8, 9, 10, 11]])\n",
        "r1 =  np.median(B)\n",
        "print(\"Median of said array:\")\n",
        "print(r1)"
      ],
      "execution_count": 35,
      "outputs": [
        {
          "output_type": "stream",
          "text": [
            "Median of said array:\n",
            "5.5\n"
          ],
          "name": "stdout"
        }
      ]
    },
    {
      "cell_type": "markdown",
      "metadata": {
        "id": "9fNK499KfOF1"
      },
      "source": [
        "22) Write a NumPy program to compute cross-correlation of two given arrays.\n",
        "\n",
        "A= [0 1 3]\n",
        "\n",
        "B = [2 4 5]"
      ]
    },
    {
      "cell_type": "code",
      "metadata": {
        "colab": {
          "base_uri": "https://localhost:8080/"
        },
        "id": "yAJxqMC0fXgI",
        "outputId": "3f41ce01-f15b-43cb-d86c-3398d29b5d81"
      },
      "source": [
        "import numpy as np\n",
        "A = np.array([0, 1, 3])\n",
        "B = np.array([2, 4, 5])\n",
        "print(\"Original array A:\")\n",
        "print(A)\n",
        "print(\"\\nOriginal array B:\")\n",
        "print(B)\n",
        "print(\"\\nCross-correlation of the arrays:\\n\",np.cov(A, B))"
      ],
      "execution_count": 39,
      "outputs": [
        {
          "output_type": "stream",
          "text": [
            "Original array A:\n",
            "[0 1 3]\n",
            "\n",
            "Original array B:\n",
            "[2 4 5]\n",
            "\n",
            "Cross-correlation of the arrays:\n",
            " [[2.33333333 2.16666667]\n",
            " [2.16666667 2.33333333]]\n"
          ],
          "name": "stdout"
        }
      ]
    },
    {
      "cell_type": "markdown",
      "metadata": {
        "id": "75upMB8AgJpx"
      },
      "source": [
        "23)  Write a Python program to count the number of occurrences of each value in a given array of non-negative integers.\n",
        "\n",
        "A = [0, 1, 6, 1, 4, 1, 2, 2, 7]\n",
        "\n"
      ]
    },
    {
      "cell_type": "code",
      "metadata": {
        "colab": {
          "base_uri": "https://localhost:8080/"
        },
        "id": "iXKUSwoRgS7x",
        "outputId": "b2e06a8a-ec1a-4d00-f207-797132e47bd9"
      },
      "source": [
        "import numpy as np\n",
        "array = [0, 1, 6, 1, 4, 1, 2, 2, 7] \n",
        "print(\"Original array:\")\n",
        "print(array)\n",
        "print(\"\\nNumber of occurrences of each value in array: \")\n",
        "print(np.bincount(array))"
      ],
      "execution_count": 42,
      "outputs": [
        {
          "output_type": "stream",
          "text": [
            "Original array:\n",
            "[0, 1, 6, 1, 4, 1, 2, 2, 7]\n",
            "\n",
            "Number of occurrences of each value in array: \n",
            "[1 3 2 0 1 0 1 1]\n"
          ],
          "name": "stdout"
        }
      ]
    },
    {
      "cell_type": "markdown",
      "metadata": {
        "id": "6XKA5toMguUk"
      },
      "source": [
        "24) Write a NumPy program to display all the dates for the month of May, 2021.\n",
        "\n"
      ]
    },
    {
      "cell_type": "code",
      "metadata": {
        "colab": {
          "base_uri": "https://localhost:8080/"
        },
        "id": "dIgc_h-whDkj",
        "outputId": "0cca772e-3eed-4fa6-910d-91e69484cf95"
      },
      "source": [
        "import numpy as np\n",
        "print(\"May, 2021\")\n",
        "print(np.arange('2021-05', '2021-06', dtype='datetime64[D]'))"
      ],
      "execution_count": 44,
      "outputs": [
        {
          "output_type": "stream",
          "text": [
            "May, 2021\n",
            "['2021-05-01' '2021-05-02' '2021-05-03' '2021-05-04' '2021-05-05'\n",
            " '2021-05-06' '2021-05-07' '2021-05-08' '2021-05-09' '2021-05-10'\n",
            " '2021-05-11' '2021-05-12' '2021-05-13' '2021-05-14' '2021-05-15'\n",
            " '2021-05-16' '2021-05-17' '2021-05-18' '2021-05-19' '2021-05-20'\n",
            " '2021-05-21' '2021-05-22' '2021-05-23' '2021-05-24' '2021-05-25'\n",
            " '2021-05-26' '2021-05-27' '2021-05-28' '2021-05-29' '2021-05-30'\n",
            " '2021-05-31']\n"
          ],
          "name": "stdout"
        }
      ]
    },
    {
      "cell_type": "markdown",
      "metadata": {
        "id": "JxLL6qyXhvOS"
      },
      "source": [
        "25) Write a NumPy program to concatenate element-wise two arrays of string.\n",
        "\n",
        "A = ['Python' 'PHP']\n",
        "\n",
        "B = [' Java' ' C++']\n",
        "\n"
      ]
    },
    {
      "cell_type": "code",
      "metadata": {
        "colab": {
          "base_uri": "https://localhost:8080/"
        },
        "id": "EMaupQlkh1sA",
        "outputId": "48293787-3f9d-44af-c6d9-e3a6d1d8e1c6"
      },
      "source": [
        "import numpy as np\n",
        "x1 = np.array(['Python', 'PHP'], dtype=np.str)\n",
        "x2 = np.array([' Java', ' C++'], dtype=np.str)\n",
        "print(\"Array1:\")\n",
        "print(x1)\n",
        "print(\"Array2:\")\n",
        "print(x2)\n",
        "new_array = np.char.add(x1, x2)\n",
        "print(\"\\nNew array:\")\n",
        "print(new_array)"
      ],
      "execution_count": 49,
      "outputs": [
        {
          "output_type": "stream",
          "text": [
            "Array1:\n",
            "['Python' 'PHP']\n",
            "Array2:\n",
            "[' Java' ' C++']\n",
            "\n",
            "New array:\n",
            "['Python Java' 'PHP C++']\n"
          ],
          "name": "stdout"
        }
      ]
    }
  ]
}